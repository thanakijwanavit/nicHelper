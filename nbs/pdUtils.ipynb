{
 "cells": [
  {
   "cell_type": "code",
   "execution_count": null,
   "metadata": {},
   "outputs": [],
   "source": [
    "#default_exp pdUtils"
   ]
  },
  {
   "cell_type": "markdown",
   "metadata": {},
   "source": [
    "# pd Utils\n",
    "utilities function for pandas dataframe and series"
   ]
  },
  {
   "cell_type": "code",
   "execution_count": null,
   "metadata": {},
   "outputs": [],
   "source": [
    "#export\n",
    "import pandas as pd\n",
    "from hashlib import sha1\n",
    "from nicHelper.dictUtil import saveStringToFile, loadStringFromFile\n",
    "from pynamodb.constants import BINARY\n",
    "from pynamodb.attributes import Attribute, UnicodeAttribute\n",
    "from pynamodb.models import Model\n",
    "from beartype import beartype\n",
    "from s3bz.s3bz import S3\n",
    "import os, logging"
   ]
  },
  {
   "cell_type": "code",
   "execution_count": null,
   "metadata": {},
   "outputs": [],
   "source": [
    "#hide\n",
    "logging.basicConfig(level = logging.WARNING)"
   ]
  },
  {
   "cell_type": "code",
   "execution_count": null,
   "metadata": {},
   "outputs": [],
   "source": [
    "from random import randint\n",
    "from randstr import randstr\n",
    "largeDf = pd.DataFrame({'hello':[randint(1,100000) for _ in range(1000)], \n",
    "                        'hello2':[randint(1,100000) for _ in range(1000)],\n",
    "                        randstr(5):[randstr(30) for _ in range(1000)],\n",
    "                        randstr(5):[randstr(30) for _ in range(1000)],\n",
    "                        randstr(5):[randstr(30) for _ in range(1000)],\n",
    "                        randstr(5):[randstr(30) for _ in range(1000)],\n",
    "                        randstr(5):[randstr(30) for _ in range(1000)],\n",
    "                        randstr(5):[randstr(30) for _ in range(1000)],\n",
    "                       })"
   ]
  },
  {
   "cell_type": "markdown",
   "metadata": {},
   "source": [
    "# getDfHash"
   ]
  },
  {
   "cell_type": "code",
   "execution_count": null,
   "metadata": {},
   "outputs": [],
   "source": [
    "#export\n",
    "from io import BytesIO\n",
    "from typing import Callable\n",
    "\n",
    "@beartype\n",
    "def getDfHash(df:pd.DataFrame, \n",
    "              hashingAlgorithm: Callable = lambda x: sha1(x).hexdigest())->str:\n",
    "  '''\n",
    "    get a hash of a pandas dataframe\\n\n",
    "    this uses sha1 algorithm\\n\n",
    "    inputs:\\n\n",
    "      df: pd.DataFrame: a pandas dataframe\\n\n",
    "      hashingAlgoritm: callable: a hashing function which takes bytes input\\n\n",
    "    response:\\n\n",
    "      string hash\\n\n",
    "  '''\n",
    "  f:BytesIO = BytesIO()\n",
    "  df.to_feather(f)\n",
    "  return hashingAlgorithm(f.read())\n"
   ]
  },
  {
   "cell_type": "code",
   "execution_count": null,
   "metadata": {},
   "outputs": [
    {
     "data": {
      "text/html": [
       "<div>\n",
       "<style scoped>\n",
       "    .dataframe tbody tr th:only-of-type {\n",
       "        vertical-align: middle;\n",
       "    }\n",
       "\n",
       "    .dataframe tbody tr th {\n",
       "        vertical-align: top;\n",
       "    }\n",
       "\n",
       "    .dataframe thead th {\n",
       "        text-align: right;\n",
       "    }\n",
       "</style>\n",
       "<table border=\"1\" class=\"dataframe\">\n",
       "  <thead>\n",
       "    <tr style=\"text-align: right;\">\n",
       "      <th></th>\n",
       "      <th>hello</th>\n",
       "    </tr>\n",
       "  </thead>\n",
       "  <tbody>\n",
       "    <tr>\n",
       "      <th>0</th>\n",
       "      <td>1</td>\n",
       "    </tr>\n",
       "    <tr>\n",
       "      <th>1</th>\n",
       "      <td>2</td>\n",
       "    </tr>\n",
       "    <tr>\n",
       "      <th>2</th>\n",
       "      <td>3</td>\n",
       "    </tr>\n",
       "    <tr>\n",
       "      <th>3</th>\n",
       "      <td>4</td>\n",
       "    </tr>\n",
       "    <tr>\n",
       "      <th>4</th>\n",
       "      <td>5</td>\n",
       "    </tr>\n",
       "    <tr>\n",
       "      <th>5</th>\n",
       "      <td>5</td>\n",
       "    </tr>\n",
       "  </tbody>\n",
       "</table>\n",
       "</div>"
      ],
      "text/plain": [
       "   hello\n",
       "0      1\n",
       "1      2\n",
       "2      3\n",
       "3      4\n",
       "4      5\n",
       "5      5"
      ]
     },
     "execution_count": null,
     "metadata": {},
     "output_type": "execute_result"
    }
   ],
   "source": [
    "df = pd.DataFrame({'hello':[1,2,3,4,5,5]})\n",
    "df"
   ]
  },
  {
   "cell_type": "code",
   "execution_count": null,
   "metadata": {},
   "outputs": [
    {
     "name": "stdout",
     "output_type": "stream",
     "text": [
      "2.23 ms ± 79.7 µs per loop (mean ± std. dev. of 7 runs, 100 loops each)\n"
     ]
    }
   ],
   "source": [
    "%%timeit\n",
    "getDfHash(largeDf)"
   ]
  },
  {
   "cell_type": "code",
   "execution_count": null,
   "metadata": {},
   "outputs": [
    {
     "name": "stdout",
     "output_type": "stream",
     "text": [
      "19 ms ± 65.8 µs per loop (mean ± std. dev. of 7 runs, 100 loops each)\n"
     ]
    }
   ],
   "source": [
    "%%timeit\n",
    "import joblib\n",
    "joblib.hash(largeDf)"
   ]
  },
  {
   "cell_type": "code",
   "execution_count": null,
   "metadata": {},
   "outputs": [
    {
     "name": "stdout",
     "output_type": "stream",
     "text": [
      "2.25 ms ± 125 µs per loop (mean ± std. dev. of 7 runs, 100 loops each)\n"
     ]
    }
   ],
   "source": [
    "def testFeather(df):\n",
    "  f:BytesIO = BytesIO()\n",
    "  df.to_feather(f)\n",
    "  \n",
    "%timeit testFeather(largeDf)"
   ]
  },
  {
   "cell_type": "markdown",
   "metadata": {},
   "source": [
    "## Local cache and hash"
   ]
  },
  {
   "cell_type": "code",
   "execution_count": null,
   "metadata": {},
   "outputs": [],
   "source": [
    "#export\n",
    "def saveLocalCache( data:pd.DataFrame, path:str = '/tmp/cache', \n",
    "                   saveHash:bool = True, force:bool = True):\n",
    "  '''\n",
    "    save cache of the dataframe to local location \\n\n",
    "    data:pd.DataFrame: dataframe to save \\n\n",
    "    path: str: path to save cache \\n\n",
    "    saveHash: bool: whether to save the hash digest \n",
    "  '''\n",
    "  ##check cache\n",
    "  if not force:\n",
    "    localHash = loadLocalHash(f'{path}.hash')\n",
    "    dataHash = getDfHash(data)\n",
    "    if dataHash == localHash :\n",
    "      logging.debug('hash is the latest, skipping')\n",
    "      return True\n",
    "  ##save hash\n",
    "  if saveHash: \n",
    "    saveLocalHash(data, path=f'{path}.hash')\n",
    "  # save cache\n",
    "  logging.debug('saving cache')\n",
    "  r =  data.to_feather(path)\n",
    "  return r\n",
    "\n",
    "def saveLocalHash( data:pd.DataFrame, path = '/tmp/cache.hash', force = False):\n",
    "  '''\n",
    "  save hash of the dataframe to local location \\n\n",
    "  data:pd.DataFrame: dataframe to save \\n\n",
    "  path: str: path to save hash\n",
    "  '''\n",
    "  dataHash = getDfHash(data)\n",
    "  return saveStringToFile(dataHash,path)\n",
    "\n",
    "def loadLocalCache( path = '/tmp/cache', throw = True):\n",
    "  '''\n",
    "  load cache of the dataframe from local location \\n\n",
    "  path: str: path to load cache\n",
    "  '''\n",
    "  if not os.path.exists(path):\n",
    "    if throw:\n",
    "      raise Exception('cache doesnt exist')\n",
    "  return pd.read_feather(path)\n",
    "def loadLocalHash( path = '/tmp/cache.hash'):\n",
    "  '''\n",
    "  load hash of the dataframe from local location \\n\n",
    "  path: str: path to load hash\n",
    "  '''\n",
    "  if not os.path.exists(path): raise Exception('hash doesnt exist')\n",
    "  return loadStringFromFile(path)"
   ]
  },
  {
   "cell_type": "code",
   "execution_count": null,
   "metadata": {},
   "outputs": [
    {
     "name": "stdout",
     "output_type": "stream",
     "text": [
      "CPU times: user 2.47 ms, sys: 0 ns, total: 2.47 ms\n",
      "Wall time: 3.09 ms\n",
      "CPU times: user 1.15 ms, sys: 0 ns, total: 1.15 ms\n",
      "Wall time: 983 µs\n",
      "da39a3ee5e6b4b0d3255bfef95601890afd80709\n",
      "CPU times: user 244 µs, sys: 0 ns, total: 244 µs\n",
      "Wall time: 173 µs\n",
      "CPU times: user 2.99 ms, sys: 10 µs, total: 3 ms\n",
      "Wall time: 3.35 ms\n"
     ]
    },
    {
     "data": {
      "text/html": [
       "<div>\n",
       "<style scoped>\n",
       "    .dataframe tbody tr th:only-of-type {\n",
       "        vertical-align: middle;\n",
       "    }\n",
       "\n",
       "    .dataframe tbody tr th {\n",
       "        vertical-align: top;\n",
       "    }\n",
       "\n",
       "    .dataframe thead th {\n",
       "        text-align: right;\n",
       "    }\n",
       "</style>\n",
       "<table border=\"1\" class=\"dataframe\">\n",
       "  <thead>\n",
       "    <tr style=\"text-align: right;\">\n",
       "      <th></th>\n",
       "      <th>hello</th>\n",
       "    </tr>\n",
       "  </thead>\n",
       "  <tbody>\n",
       "    <tr>\n",
       "      <th>0</th>\n",
       "      <td>1</td>\n",
       "    </tr>\n",
       "    <tr>\n",
       "      <th>1</th>\n",
       "      <td>2</td>\n",
       "    </tr>\n",
       "    <tr>\n",
       "      <th>2</th>\n",
       "      <td>3</td>\n",
       "    </tr>\n",
       "    <tr>\n",
       "      <th>3</th>\n",
       "      <td>4</td>\n",
       "    </tr>\n",
       "    <tr>\n",
       "      <th>4</th>\n",
       "      <td>5</td>\n",
       "    </tr>\n",
       "    <tr>\n",
       "      <th>5</th>\n",
       "      <td>5</td>\n",
       "    </tr>\n",
       "  </tbody>\n",
       "</table>\n",
       "</div>"
      ],
      "text/plain": [
       "   hello\n",
       "0      1\n",
       "1      2\n",
       "2      3\n",
       "3      4\n",
       "4      5\n",
       "5      5"
      ]
     },
     "execution_count": null,
     "metadata": {},
     "output_type": "execute_result"
    }
   ],
   "source": [
    "%time saveLocalCache(df,force = True)\n",
    "%time saveLocalHash(df)\n",
    "%time print(loadLocalHash())\n",
    "%time loadLocalCache()"
   ]
  },
  {
   "cell_type": "markdown",
   "metadata": {},
   "source": [
    "## Remote cache and hash"
   ]
  },
  {
   "cell_type": "code",
   "execution_count": null,
   "metadata": {},
   "outputs": [],
   "source": [
    "#export\n",
    "def saveRemoteHash(data:pd.DataFrame, key='', bucket='', **kwargs):\n",
    "  '''\n",
    "  save hash of the dataframe to S3 bucket \\n\n",
    "  data:pd.DataFrame: dataframe to save \\n\n",
    "  key: str: the name (key) of the dataframe to be saved in the S3 bucket \\n\n",
    "  bucket: str: the name of the bucket to store the dataframe\n",
    "  '''\n",
    "  hashKey = f'{key}-hash'\n",
    "  hashString = getDfHash(data)\n",
    "  dictToSave= {'hash': hashString }\n",
    "  print(f'hashKey is {hashKey}')\n",
    "  print('saving hash to s3')\n",
    "  S3.save(key=hashKey,objectToSave=dictToSave, bucket=bucket, **kwargs )\n",
    "  print(f'saved hash {hashString}')\n",
    "  \n",
    "\n",
    "def saveRemoteCache(data:pd.DataFrame, key = '', \n",
    "                    bucket = '', localCachePath='/tmp/cache', localHashPath='/tmp/hash', **kwargs):\n",
    "  '''\n",
    "  save cache and hash of the dataframe to both local location and S3 bucket \\n\n",
    "  data:pd.DataFrame: dataframe to save \\n\n",
    "  key: str: the name (key) of the dataframe to be saved in the S3 bucket \\n\n",
    "  bucket: str: the name of the bucket to store the dataframe \\n\n",
    "  localCachePath: str:path to save cache locally \\n\n",
    "  localHashPath: str: path to save hash locally\n",
    "  '''\n",
    "  saveLocalCache(data=data, path = localCachePath)\n",
    "  saveLocalHash(data=data, path = localHashPath)\n",
    "  saveRemoteHash(data=data, key = key, bucket=bucket)\n",
    "  S3.saveFile(key=key, path=localCachePath, bucket=bucket, **kwargs)\n",
    "  \n",
    "def loadRemoteCache(key='', bucket='', **kwargs):\n",
    "  '''\n",
    "  load cache of the dataframe from S3 bucket \\n\n",
    "  key: str: the name (key) of the dataframe to be loaded from the S3 bucket \\n\n",
    "  bucket: str: the name of the bucket to load the dataframe\n",
    "  '''\n",
    "  path = '/tmp/tmpPath'\n",
    "  S3.loadFile(key,path=path ,bucket=bucket, **kwargs)\n",
    "  df = pd.read_feather(path)\n",
    "  return df\n",
    "\n",
    "def loadRemoteHash(key='', bucket='', **kwargs):\n",
    "  '''\n",
    "  load hash of the dataframe from S3 bucket \\n\n",
    "  key: str: the name (key) of the dataframe to be loaded from the S3 bucket \\n\n",
    "  bucket: str: the name of the bucket to load the dataframe\n",
    "  '''\n",
    "  hashKey = f'{key}-hash'\n",
    "  print(f'loading hashkey {hashKey}')\n",
    "  loadedHash= S3.load(hashKey,bucket=bucket, **kwargs).get('hash')\n",
    "  print(f'loaded hash is {loadedHash}')\n",
    "  return loadedHash"
   ]
  },
  {
   "cell_type": "code",
   "execution_count": null,
   "metadata": {},
   "outputs": [
    {
     "name": "stdout",
     "output_type": "stream",
     "text": [
      "hashKey is testKey-hash\n",
      "saving hash to s3\n",
      "saved hash da39a3ee5e6b4b0d3255bfef95601890afd80709\n",
      "CPU times: user 94.6 ms, sys: 11.5 ms, total: 106 ms\n",
      "Wall time: 264 ms\n",
      "loading hashkey testKey-hash\n",
      "loaded hash is da39a3ee5e6b4b0d3255bfef95601890afd80709\n",
      "da39a3ee5e6b4b0d3255bfef95601890afd80709\n",
      "125 ms ± 3.03 ms per loop (mean ± std. dev. of 7 runs, 10 loops each)\n"
     ]
    }
   ],
   "source": [
    "#hide\n",
    "testKey = 'testKey'\n",
    "testBucket = 'villa-clipboard'\n",
    "%time saveRemoteCache(df, key = testKey, bucket = testBucket)\n",
    "print(loadRemoteHash(testKey, testBucket))\n",
    "%timeit loadRemoteCache(key = testKey, bucket = testBucket)"
   ]
  },
  {
   "cell_type": "markdown",
   "metadata": {},
   "source": [
    "## PynamoAttributes"
   ]
  },
  {
   "cell_type": "code",
   "execution_count": null,
   "metadata": {},
   "outputs": [],
   "source": [
    "#export\n",
    "class PandasDataFrameAttribute(Attribute):\n",
    "  '''\n",
    "  pynamodb attributes for pandas dataframe\n",
    "  '''\n",
    "  attr_type = BINARY\n",
    "  def serialize(self, value: pd.DataFrame)->bin:\n",
    "    bio = BytesIO()\n",
    "    value.to_feather(bio)\n",
    "    data:bin = bio.getvalue()\n",
    "    return data\n",
    "  def deserialize(self, value: bin)->pd.DataFrame:\n",
    "    bio = BytesIo(bin)\n",
    "    df: pd.DataFrame = pd.read_feather(bio)\n",
    "    return df"
   ]
  },
  {
   "cell_type": "code",
   "execution_count": null,
   "metadata": {},
   "outputs": [
    {
     "data": {
      "text/html": [
       "<div>\n",
       "<style scoped>\n",
       "    .dataframe tbody tr th:only-of-type {\n",
       "        vertical-align: middle;\n",
       "    }\n",
       "\n",
       "    .dataframe tbody tr th {\n",
       "        vertical-align: top;\n",
       "    }\n",
       "\n",
       "    .dataframe thead th {\n",
       "        text-align: right;\n",
       "    }\n",
       "</style>\n",
       "<table border=\"1\" class=\"dataframe\">\n",
       "  <thead>\n",
       "    <tr style=\"text-align: right;\">\n",
       "      <th></th>\n",
       "      <th>cprcode</th>\n",
       "      <th>quantity</th>\n",
       "    </tr>\n",
       "  </thead>\n",
       "  <tbody>\n",
       "    <tr>\n",
       "      <th>0</th>\n",
       "      <td>1234</td>\n",
       "      <td>123</td>\n",
       "    </tr>\n",
       "    <tr>\n",
       "      <th>1</th>\n",
       "      <td>12345</td>\n",
       "      <td>345</td>\n",
       "    </tr>\n",
       "  </tbody>\n",
       "</table>\n",
       "</div>"
      ],
      "text/plain": [
       "  cprcode  quantity\n",
       "0    1234       123\n",
       "1   12345       345"
      ]
     },
     "execution_count": null,
     "metadata": {},
     "output_type": "execute_result"
    }
   ],
   "source": [
    "class Database(Model):\n",
    "  class Meta:\n",
    "    table_name = ''\n",
    "    region = ''\n",
    "    billing_mode='PAY_PER_REQUEST'\n",
    "    \n",
    "  brcode = UnicodeAttribute(hash_key=True, default = '')\n",
    "  data = PandasDataFrameAttribute()\n",
    "  \n",
    "import sys\n",
    "df = pd.DataFrame({'cprcode':['1234', '12345'], 'quantity':[123, 345]})\n",
    "db = Database(brcode='1234', data = df)\n",
    "db.data"
   ]
  },
  {
   "cell_type": "code",
   "execution_count": null,
   "metadata": {},
   "outputs": [],
   "source": [
    "#export\n",
    "# class PandasSeriesAttribute(Attribute):\n",
    "#   attr_type = BINARY\n",
    "#   def serialize(self, value: pd.Series)->bin:\n",
    "#     bio = BytesIO()\n",
    "#     df = s.to_frame()\n",
    "#     value.to_feather(bio)\n",
    "#     data:bin = bio.getvalue()\n",
    "#     return data\n",
    "#   def deserialize(self, value: bin)->pd.DataFrame:\n",
    "#     bio = BytesIo(bin)\n",
    "#     df: pd.DataFrame = pd.read_feather(bio)\n",
    "#     return df"
   ]
  },
  {
   "cell_type": "code",
   "execution_count": null,
   "metadata": {},
   "outputs": [],
   "source": [
    "#export\n",
    "from nicHelper.schema import getTypes"
   ]
  },
  {
   "cell_type": "code",
   "execution_count": null,
   "metadata": {},
   "outputs": [
    {
     "data": {
      "text/plain": [
       "{'iprcode': int,\n",
       " 'brcode': int,\n",
       " 'ib_cf_qty': int,\n",
       " 'new_ib_vs_stock_cv': int,\n",
       " 'onlineflag': bool}"
      ]
     },
     "execution_count": null,
     "metadata": {},
     "output_type": "execute_result"
    }
   ],
   "source": [
    "url = 'https://raw.githubusercontent.com/thanakijwanavit/villaMasterSchema/dev-manual/inventory/inventory.yaml'\n",
    "\n",
    "\n",
    "inv = {\n",
    "                  'iprcode': '0000009',\n",
    "                  'brcode': '1000',\n",
    "                  'ib_cf_qty': '50',\n",
    "                  'new_ib_vs_stock_cv': '27',\n",
    "                  'onlineflag': True\n",
    "                }\n",
    "getTypes(url)"
   ]
  },
  {
   "cell_type": "code",
   "execution_count": null,
   "metadata": {},
   "outputs": [],
   "source": [
    "#export\n",
    "def forceType(url:str, df:pd.DataFrame, defaultType=str)->pd.DataFrame:\n",
    "  '''\n",
    "  force the data type in the dataframe to be the data type specified in the schema \\n\n",
    "  url: str: the url of the schema \\n\n",
    "  df: pd.DataFrame: a pandas dataframe \\n\n",
    "  defaultType: the default type of data if type of data is not specified, default = str\n",
    "  '''\n",
    "  typeDict = getTypes(url)\n",
    "  typeList = {col:typeDict.get(col) for col in df.columns}\n",
    "  print(typeList)\n",
    "  df = df.astype(typeList)\n",
    "  print(df.dtypes)\n",
    "  return df"
   ]
  },
  {
   "cell_type": "code",
   "execution_count": null,
   "metadata": {},
   "outputs": [
    {
     "name": "stdout",
     "output_type": "stream",
     "text": [
      "{'iprcode': <class 'int'>, 'brcode': <class 'int'>, 'ib_cf_qty': <class 'int'>, 'new_ib_vs_stock_cv': <class 'int'>, 'onlineflag': <class 'bool'>}\n",
      "iprcode               int64\n",
      "brcode                int64\n",
      "ib_cf_qty             int64\n",
      "new_ib_vs_stock_cv    int64\n",
      "onlineflag             bool\n",
      "dtype: object\n"
     ]
    },
    {
     "data": {
      "text/html": [
       "<div>\n",
       "<style scoped>\n",
       "    .dataframe tbody tr th:only-of-type {\n",
       "        vertical-align: middle;\n",
       "    }\n",
       "\n",
       "    .dataframe tbody tr th {\n",
       "        vertical-align: top;\n",
       "    }\n",
       "\n",
       "    .dataframe thead th {\n",
       "        text-align: right;\n",
       "    }\n",
       "</style>\n",
       "<table border=\"1\" class=\"dataframe\">\n",
       "  <thead>\n",
       "    <tr style=\"text-align: right;\">\n",
       "      <th></th>\n",
       "      <th>iprcode</th>\n",
       "      <th>brcode</th>\n",
       "      <th>ib_cf_qty</th>\n",
       "      <th>new_ib_vs_stock_cv</th>\n",
       "      <th>onlineflag</th>\n",
       "    </tr>\n",
       "  </thead>\n",
       "  <tbody>\n",
       "    <tr>\n",
       "      <th>0</th>\n",
       "      <td>9</td>\n",
       "      <td>1000</td>\n",
       "      <td>50</td>\n",
       "      <td>27</td>\n",
       "      <td>True</td>\n",
       "    </tr>\n",
       "  </tbody>\n",
       "</table>\n",
       "</div>"
      ],
      "text/plain": [
       "   iprcode  brcode  ib_cf_qty  new_ib_vs_stock_cv  onlineflag\n",
       "0        9    1000         50                  27        True"
      ]
     },
     "execution_count": null,
     "metadata": {},
     "output_type": "execute_result"
    }
   ],
   "source": [
    "forceType(url, pd.DataFrame([inv]))"
   ]
  }
 ],
 "metadata": {
  "kernelspec": {
   "display_name": "conda_python38",
   "language": "python",
   "name": "conda_python38"
  }
 },
 "nbformat": 4,
 "nbformat_minor": 4
}
