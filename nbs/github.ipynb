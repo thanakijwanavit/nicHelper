{
 "cells": [
  {
   "cell_type": "code",
   "execution_count": null,
   "metadata": {},
   "outputs": [],
   "source": [
    "#default_exp github"
   ]
  },
  {
   "cell_type": "markdown",
   "metadata": {},
   "source": [
    "# github\n",
    "apis of github"
   ]
  },
  {
   "cell_type": "code",
   "execution_count": null,
   "metadata": {},
   "outputs": [],
   "source": [
    "#export\n",
    "import requests\n",
    "from requests import get, Response\n",
    "from beartype import beartype\n",
    "from typing import Any, Optional"
   ]
  },
  {
   "cell_type": "code",
   "execution_count": null,
   "metadata": {},
   "outputs": [],
   "source": [
    "#export\n",
    "@beartype\n",
    "def githubGet(url:str, token:Optional[str])->Response:\n",
    "  ''' \n",
    "    get request to github using token\n",
    "    parameters:\n",
    "      url:str: github raw file url\n",
    "      token:str: your personal access token\n",
    "    response:\n",
    "      response: requests.Response: response object\n",
    "  '''\n",
    "  r = requests.get(url, headers = {\"Authorization\": f\"token {token}\"})\n",
    "  return r"
   ]
  },
  {
   "cell_type": "code",
   "execution_count": null,
   "metadata": {},
   "outputs": [],
   "source": [
    "#hide\n",
    "from pathlib import Path\n",
    "from nicHelper.secrets import getSecret\n",
    "token = getSecret(name='githubToken')['githubToken']\n",
    "url = 'https://raw.githubusercontent.com/thanakijwanavit/villaConfig/master/search/cloudsearch.yaml'\n",
    "githubGet(url, token).text\n",
    "\n"
   ]
  },
  {
   "cell_type": "code",
   "execution_count": null,
   "metadata": {},
   "outputs": [],
   "source": [
    "#export\n",
    "@beartype\n",
    "def githubGetYaml(url:str, token:Optional[str])->dict:\n",
    "  ''' \n",
    "    get yaml dictionary from github using token\n",
    "    parameters:\n",
    "      url:str: github raw file url\n",
    "      token:str: your personal access token\n",
    "    response:\n",
    "      response: dict: yaml dictionary\n",
    "  '''\n",
    "  import yaml\n",
    "  r = githubGet(url, token)\n",
    "  return yaml.load(r.text,Loader=yaml.FullLoader)\n",
    "  "
   ]
  },
  {
   "cell_type": "code",
   "execution_count": null,
   "metadata": {},
   "outputs": [],
   "source": [
    "githubGetYaml(url, token)"
   ]
  },
  {
   "cell_type": "code",
   "execution_count": null,
   "metadata": {},
   "outputs": [],
   "source": [
    "#export\n",
    "@beartype\n",
    "def githubImportModule(url:str, token:Optional[str], path='/tmp/inputfile', sourceName='schema')->Any:\n",
    "  import imp\n",
    "  r = requests.get(url, headers={'Authorization': 'token '+token})\n",
    "  with open(path, 'w') as f:\n",
    "    f.write(r.text)\n",
    "  return imp.load_source(sourceName, path)"
   ]
  },
  {
   "cell_type": "code",
   "execution_count": null,
   "metadata": {},
   "outputs": [],
   "source": [
    "url = f'https://raw.githubusercontent.com/thanakijwanavit/villaCalculateCost/master/src/schema.py'\n",
    "schema = githubImportModule(url, token)\n",
    "schema.GetCostInput.json_schema()"
   ]
  },
  {
   "cell_type": "code",
   "execution_count": null,
   "metadata": {},
   "outputs": [],
   "source": []
  }
 ],
 "metadata": {
  "kernelspec": {
   "display_name": "python38",
   "language": "python",
   "name": "python38"
  }
 },
 "nbformat": 4,
 "nbformat_minor": 4
}
