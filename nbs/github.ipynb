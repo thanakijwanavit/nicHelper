{
 "cells": [
  {
   "cell_type": "code",
   "execution_count": 1,
   "metadata": {},
   "outputs": [],
   "source": [
    "#default_exp github"
   ]
  },
  {
   "cell_type": "markdown",
   "metadata": {},
   "source": [
    "# github\n",
    "apis of github"
   ]
  },
  {
   "cell_type": "code",
   "execution_count": 2,
   "metadata": {},
   "outputs": [],
   "source": [
    "#export\n",
    "import requests\n",
    "from requests import get, Response\n",
    "from beartype import beartype\n",
    "from typing import Any, Optional"
   ]
  },
  {
   "cell_type": "code",
   "execution_count": 3,
   "metadata": {},
   "outputs": [],
   "source": [
    "#export\n",
    "@beartype\n",
    "def githubGet(url:str, token:Optional[str])->Response:\n",
    "  ''' \n",
    "    get request to github using token\n",
    "    parameters:\n",
    "      url:str: github raw file url\n",
    "      token:str: your personal access token\n",
    "    response:\n",
    "      response: requests.Response: response object\n",
    "  '''\n",
    "  r = requests.get(url, headers = {\"Authorization\": f\"token {token}\"})\n",
    "  return r"
   ]
  },
  {
   "cell_type": "code",
   "execution_count": 4,
   "metadata": {},
   "outputs": [
    {
     "data": {
      "text/plain": [
       "'# details about parameter in python https://boto3.amazonaws.com/v1/documentation/api/latest/reference/services/cloudsearchdomain.html#CloudSearchDomain.Client.search\\n# searching guide https://docs.aws.amazon.com/cloudsearch/latest/developerguide/searching.html\\nsearchParams:\\n  expr: \\'{\"expression\": \"(_score*0.01)*(10+ sort_villa_sku)\"}\\'\\n  facet: \"\"\\n  filterQuery: \"master_online:\\'true\\'\"\\n  highlight: \"\"\\n  queryOptions: \"{\\\\\"fields\\\\\": [\\\\\"pr_online_name_en^5\\\\\", \\\\\"online_category_l3_en^4\\\\\", \\\\\"online_category_l2_en^4\\\\\", \\\\\"pr_engname^2\\\\\", \\\\\"pr_online_name_th^5\\\\\", \\\\\"online_category_l3_th^4\\\\\", \\\\\"online_category_l2_th^4\\\\\", \\\\\"pr_name_th^2\\\\\", \\\\\"pr_barcode^1\\\\\", \\\\\"cprcode^1\\\\\"]}\"\\n  queryParser: \"\"\\n  returnFields: \"\"\\n  size: 100\\n  sort: \"expression asc\"\\n'"
      ]
     },
     "execution_count": 4,
     "metadata": {},
     "output_type": "execute_result"
    }
   ],
   "source": [
    "#hide\n",
    "from pathlib import Path\n",
    "from nicHelper.secrets import getSecret\n",
    "token = getSecret(name='githubToken')['githubToken']\n",
    "url = 'https://raw.githubusercontent.com/thanakijwanavit/villaConfig/master/search/cloudsearch.yaml'\n",
    "githubGet(url, token).text\n",
    "\n"
   ]
  },
  {
   "cell_type": "code",
   "execution_count": 5,
   "metadata": {},
   "outputs": [],
   "source": [
    "#export\n",
    "@beartype\n",
    "def githubGetYaml(url:str, token:Optional[str])->dict:\n",
    "  ''' \n",
    "    get yaml dictionary from github using token\n",
    "    parameters:\n",
    "      url:str: github raw file url\n",
    "      token:str: your personal access token\n",
    "    response:\n",
    "      response: dict: yaml dictionary\n",
    "  '''\n",
    "  import yaml\n",
    "  r = githubGet(url, token)\n",
    "  return yaml.load(r.text,Loader=yaml.FullLoader)\n",
    "  "
   ]
  },
  {
   "cell_type": "code",
   "execution_count": 6,
   "metadata": {},
   "outputs": [
    {
     "data": {
      "text/plain": [
       "{'searchParams': {'expr': '{\"expression\": \"(_score*0.01)*(10+ sort_villa_sku)\"}',\n",
       "  'facet': '',\n",
       "  'filterQuery': \"master_online:'true'\",\n",
       "  'highlight': '',\n",
       "  'queryOptions': '{\"fields\": [\"pr_online_name_en^5\", \"online_category_l3_en^4\", \"online_category_l2_en^4\", \"pr_engname^2\", \"pr_online_name_th^5\", \"online_category_l3_th^4\", \"online_category_l2_th^4\", \"pr_name_th^2\", \"pr_barcode^1\", \"cprcode^1\"]}',\n",
       "  'queryParser': '',\n",
       "  'returnFields': '',\n",
       "  'size': 100,\n",
       "  'sort': 'expression asc'}}"
      ]
     },
     "execution_count": 6,
     "metadata": {},
     "output_type": "execute_result"
    }
   ],
   "source": [
    "githubGetYaml(url, token)"
   ]
  },
  {
   "cell_type": "code",
   "execution_count": 10,
   "metadata": {},
   "outputs": [],
   "source": [
    "#export\n",
    "@beartype\n",
    "def githubImportModule(url:str, token:Optional[str], path='/tmp/inputfile', sourceName='schema')->Any:\n",
    "  import imp\n",
    "  r = requests.get(url, headers={'Authorization': 'token '+token})\n",
    "  with open(path, 'w') as f:\n",
    "    f.write(r.text)\n",
    "  return imp.load_source(sourceName, path)"
   ]
  },
  {
   "cell_type": "code",
   "execution_count": 11,
   "metadata": {},
   "outputs": [
    {
     "name": "stderr",
     "output_type": "stream",
     "text": [
      "/home/ec2-user/anaconda3/envs/python38/lib/python3.8/site-packages/dataclasses_jsonschema/__init__.py:695: UserWarning: Unable to create schema for '(<class 'int'>, <class 'str'>)'\n",
      "  warnings.warn(f\"Unable to create schema for '{field_type_name}'\")\n"
     ]
    },
    {
     "data": {
      "text/plain": [
       "{'type': 'object',\n",
       " 'required': ['branchId', 'productList'],\n",
       " 'properties': {'branchId': {'type': 'string'},\n",
       "  'productList': {'type': 'array', 'items': {'$ref': '#/definitions/Product'}},\n",
       "  'shipping': {'$ref': '#/definitions/Shipping'},\n",
       "  'couponCodeList': {'type': 'array',\n",
       "   'items': {'type': 'string'},\n",
       "   'default': []}},\n",
       " 'description': \"GetCostInput(branchId: str, productList: List[schema.Product], shipping: Union[schema.Shipping, NoneType] = None, couponCodeList: List[ForwardRef('str')] = <factory>)\",\n",
       " '$schema': 'http://json-schema.org/draft-06/schema#',\n",
       " 'definitions': {'Product': {'type': 'object',\n",
       "   'required': ['cprcode', 'productName', 'quantity'],\n",
       "   'properties': {'cprcode': {},\n",
       "    'productName': {'type': 'string'},\n",
       "    'quantity': {'type': 'integer'},\n",
       "    'scheduleId': {'type': 'integer'},\n",
       "    'isPreOrder': {'type': 'boolean', 'default': False}},\n",
       "   'description': \"Product(cprcode: (<class 'int'>, <class 'str'>), productName: str, quantity: int, scheduleId: Union[int, NoneType] = None, isPreOrder: bool = False)\"},\n",
       "  'Shipping': {'type': 'object',\n",
       "   'required': ['scheduleList', 'shippingType'],\n",
       "   'properties': {'scheduleList': {'type': 'array',\n",
       "     'items': {'$ref': '#/definitions/Schedule'}},\n",
       "    'shippingType': {'type': 'string', 'enum': ['DELIVERY', 'PICKUP']},\n",
       "    'shippingPostcode': {'type': 'string', 'default': '10110'},\n",
       "    'shippingLat': {'type': 'number', 'default': 0},\n",
       "    'shippingLon': {'type': 'number', 'default': 0}},\n",
       "   'description': \"Shipping(scheduleList: List[schema.Schedule], shippingType: schema.ShippingType, shippingPostcode: str = '10110', shippingLat: float = 0, shippingLon: float = 0)\"},\n",
       "  'Schedule': {'type': 'object',\n",
       "   'required': ['mode'],\n",
       "   'properties': {'mode': {'type': 'string',\n",
       "     'enum': ['NATIONWIDE', 'EXPRESS', 'PICKUP']},\n",
       "    'dateTime': {'type': 'string', 'default': ''},\n",
       "    'scheduleId': {'type': 'integer', 'default': 0},\n",
       "    'deliveryFee': {'type': 'number', 'default': 0},\n",
       "    'nationwideMode': {'type': 'string', 'enum': ['FRESH', 'DRY', 'MIX']}},\n",
       "   'description': \"Schedule(mode: schema.ShippingMode, dateTime: str = '', scheduleId: int = 0, deliveryFee: float = 0, nationwideMode: Union[schema.NationwideMode, NoneType] = None)\"}}}"
      ]
     },
     "execution_count": 11,
     "metadata": {},
     "output_type": "execute_result"
    }
   ],
   "source": [
    "url = f'https://raw.githubusercontent.com/thanakijwanavit/villaCalculateCost/master/src/schema.py'\n",
    "schema = githubImportModule(url, token)\n",
    "schema.GetCostInput.json_schema()"
   ]
  },
  {
   "cell_type": "code",
   "execution_count": null,
   "metadata": {},
   "outputs": [],
   "source": []
  }
 ],
 "metadata": {
  "kernelspec": {
   "display_name": "python38",
   "language": "python",
   "name": "python38"
  },
  "language_info": {
   "codemirror_mode": {
    "name": "ipython",
    "version": 3
   },
   "file_extension": ".py",
   "mimetype": "text/x-python",
   "name": "python",
   "nbconvert_exporter": "python",
   "pygments_lexer": "ipython3",
   "version": "3.8.8"
  }
 },
 "nbformat": 4,
 "nbformat_minor": 4
}
