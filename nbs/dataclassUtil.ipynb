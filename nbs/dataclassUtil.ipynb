{
 "cells": [
  {
   "cell_type": "code",
   "execution_count": null,
   "metadata": {},
   "outputs": [],
   "source": [
    "# default_exp dataclassUtil"
   ]
  },
  {
   "cell_type": "markdown",
   "metadata": {},
   "source": [
    "# dataclassUtil\n",
    "\n",
    "> dataclass utilities"
   ]
  },
  {
   "cell_type": "code",
   "execution_count": null,
   "metadata": {},
   "outputs": [],
   "source": [
    "#export\n",
    "import inspect\n",
    "import typing\n",
    "from contextlib import suppress\n",
    "from functools import wraps"
   ]
  },
  {
   "cell_type": "code",
   "execution_count": null,
   "metadata": {},
   "outputs": [],
   "source": [
    "#export\n",
    "def enforce_types(callable):\n",
    "    spec = inspect.getfullargspec(callable)\n",
    "\n",
    "    def check_types(*args, **kwargs):\n",
    "        parameters = dict(zip(spec.args, args))\n",
    "        parameters.update(kwargs)\n",
    "        for name, value in parameters.items():\n",
    "            with suppress(KeyError):  # Assume un-annotated parameters can be any type\n",
    "                type_hint = spec.annotations[name]\n",
    "                if isinstance(type_hint, typing._SpecialForm):\n",
    "                    # No check for typing.Any, typing.Union, typing.ClassVar (without parameters)\n",
    "                    continue\n",
    "                try:\n",
    "                    actual_type = type_hint.__origin__\n",
    "                except AttributeError:\n",
    "                    # In case of non-typing types (such as <class 'int'>, for instance)\n",
    "                    actual_type = type_hint\n",
    "                # In Python 3.8 one would replace the try/except with\n",
    "                # actual_type = typing.get_origin(type_hint) or type_hint\n",
    "                if isinstance(actual_type, typing._SpecialForm):\n",
    "                    # case of typing.Union[…] or typing.ClassVar[…]\n",
    "                    actual_type = type_hint.__args__\n",
    "\n",
    "                if not isinstance(value, actual_type):\n",
    "                    raise TypeError('Unexpected type for \\'{}\\' (expected {} but found {})'.format(name, type_hint, type(value)))\n",
    "\n",
    "    def decorate(func):\n",
    "        @wraps(func)\n",
    "        def wrapper(*args, **kwargs):\n",
    "            check_types(*args, **kwargs)\n",
    "            return func(*args, **kwargs)\n",
    "        return wrapper\n",
    "\n",
    "    if inspect.isclass(callable):\n",
    "        callable.__init__ = decorate(callable.__init__)\n",
    "        return callable\n",
    "\n",
    "    return decorate(callable)\n",
    "  \n",
    "  "
   ]
  },
  {
   "cell_type": "code",
   "execution_count": null,
   "metadata": {},
   "outputs": [],
   "source": [
    "#test\n",
    "from dataclasses import dataclass\n",
    "from dataclasses_json import dataclass_json\n",
    "import pytest"
   ]
  },
  {
   "cell_type": "code",
   "execution_count": null,
   "metadata": {},
   "outputs": [],
   "source": [
    "#test\n",
    "@enforce_types\n",
    "@dataclass_json\n",
    "@dataclass\n",
    "class TestObject:\n",
    "  id_:int\n",
    "  name:str\n",
    "    \n",
    "## should pass\n",
    "TestObject.from_dict({'id_':123,'name':'123'})\n",
    "\n",
    "## should fail\n",
    "with pytest.raises(TypeError):\n",
    "  TestObject.from_dict({'id_':'123', 'name':'123'})\n",
    "  raise Exception('test should fail')"
   ]
  },
  {
   "cell_type": "code",
   "execution_count": null,
   "metadata": {},
   "outputs": [],
   "source": []
  }
 ],
 "metadata": {
  "kernelspec": {
   "display_name": "python38",
   "language": "python",
   "name": "python38"
  }
 },
 "nbformat": 4,
 "nbformat_minor": 4
}
