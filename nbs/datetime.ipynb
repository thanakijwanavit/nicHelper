{
 "cells": [
  {
   "cell_type": "code",
   "execution_count": 1,
   "metadata": {},
   "outputs": [],
   "source": [
    "# default_exp datetime"
   ]
  },
  {
   "cell_type": "markdown",
   "metadata": {},
   "source": [
    "# datetime\n",
    "> convinience for getting timestamps"
   ]
  },
  {
   "cell_type": "code",
   "execution_count": 2,
   "metadata": {},
   "outputs": [],
   "source": [
    "#hide\n",
    "from nbdev.showdoc import *"
   ]
  },
  {
   "cell_type": "code",
   "execution_count": 3,
   "metadata": {},
   "outputs": [],
   "source": [
    "#export\n",
    "from beartype import beartype"
   ]
  },
  {
   "cell_type": "markdown",
   "metadata": {},
   "source": [
    "# datestamp"
   ]
  },
  {
   "cell_type": "code",
   "execution_count": 44,
   "metadata": {},
   "outputs": [],
   "source": [
    "#export\n",
    "from datetime import datetime, timezone, timedelta\n",
    "@beartype\n",
    "def datestamp(dt:datetime = datetime.utcnow(), tz=timezone.utc)->int:\n",
    "  adt:dt = dt.astimezone(tz)\n",
    "  datestamp = datetime(day=adt.day,month=adt.month,year=adt.year, tzinfo=tz).timestamp()\n",
    "  return int(datestamp)"
   ]
  },
  {
   "cell_type": "code",
   "execution_count": 49,
   "metadata": {},
   "outputs": [
    {
     "data": {
      "text/plain": [
       "'11-08-21-00-00'"
      ]
     },
     "execution_count": 49,
     "metadata": {},
     "output_type": "execute_result"
    }
   ],
   "source": [
    "tz = timezone(timedelta(hours=7))\n",
    "ds = datestamp(tz=tz)\n",
    "datetime.fromtimestamp(ds, tz=tz).strftime(\"%d-%m-%y-%H-%M\")"
   ]
  },
  {
   "cell_type": "code",
   "execution_count": 54,
   "metadata": {},
   "outputs": [
    {
     "data": {
      "text/plain": [
       "'10-08-21-00-00'"
      ]
     },
     "execution_count": 54,
     "metadata": {},
     "output_type": "execute_result"
    }
   ],
   "source": [
    "dt = datetime.fromtimestamp(1628626751.72299)\n",
    "ds = datestamp(dt)\n",
    "datetime.fromtimestamp(ds).strftime(\"%d-%m-%y-%H-%M\")"
   ]
  },
  {
   "cell_type": "code",
   "execution_count": 55,
   "metadata": {},
   "outputs": [
    {
     "data": {
      "text/plain": [
       "'11-08-21-00-00'"
      ]
     },
     "execution_count": 55,
     "metadata": {},
     "output_type": "execute_result"
    }
   ],
   "source": [
    "tz = timezone(timedelta(hours=7))\n",
    "dt = datetime.fromtimestamp(1628626751.72299)\n",
    "ds = datestamp(dt, tz=tz)\n",
    "datetime.fromtimestamp(ds, tz=tz).strftime(\"%d-%m-%y-%H-%M\")"
   ]
  },
  {
   "cell_type": "markdown",
   "metadata": {},
   "source": [
    "# convert datetime string to timestamp"
   ]
  },
  {
   "cell_type": "code",
   "execution_count": 6,
   "metadata": {},
   "outputs": [],
   "source": [
    "#export \n",
    "@beartype\n",
    "def stringToTimestamp(stringTime:str, formatString:str, timeZone:timezone = timezone.utc)->float:\n",
    "  return datetime.strptime(stringTime,formatString).replace(tzinfo=timeZone).timestamp()"
   ]
  },
  {
   "cell_type": "code",
   "execution_count": 7,
   "metadata": {},
   "outputs": [
    {
     "data": {
      "text/plain": [
       "634089600.0"
      ]
     },
     "execution_count": 7,
     "metadata": {},
     "output_type": "execute_result"
    }
   ],
   "source": [
    "stringToTimestamp(\"04-02-90\", \"%d-%m-%y\")"
   ]
  },
  {
   "cell_type": "code",
   "execution_count": null,
   "metadata": {},
   "outputs": [],
   "source": []
  }
 ],
 "metadata": {
  "kernelspec": {
   "display_name": "python38",
   "language": "python",
   "name": "python38"
  },
  "language_info": {
   "codemirror_mode": {
    "name": "ipython",
    "version": 3
   },
   "file_extension": ".py",
   "mimetype": "text/x-python",
   "name": "python",
   "nbconvert_exporter": "python",
   "pygments_lexer": "ipython3",
   "version": "3.8.8"
  }
 },
 "nbformat": 4,
 "nbformat_minor": 4
}
