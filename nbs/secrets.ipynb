{
 "cells": [
  {
   "cell_type": "code",
   "execution_count": null,
   "metadata": {},
   "outputs": [],
   "source": [
    "#default_exp secrets"
   ]
  },
  {
   "cell_type": "markdown",
   "metadata": {},
   "source": [
    "# Secrets"
   ]
  },
  {
   "cell_type": "code",
   "execution_count": null,
   "metadata": {},
   "outputs": [],
   "source": [
    "#export\n",
    "import boto3\n",
    "import ujson as json"
   ]
  },
  {
   "cell_type": "code",
   "execution_count": null,
   "metadata": {},
   "outputs": [],
   "source": [
    "#export\n",
    "def getSecret(name=\"removeBg\", region='ap-southeast-1', **kwargs):\n",
    "  '''\n",
    "  retrieve secret information from Amazon's secret manager without revealing the secret\n",
    "  '''\n",
    "  session = boto3.session.Session()\n",
    "  client = session.client(\n",
    "      service_name='secretsmanager',\n",
    "      region_name=region,\n",
    "      **kwargs\n",
    "  )\n",
    "  get_secret_value_response = client.get_secret_value(\n",
    "      SecretId=name\n",
    "  )\n",
    "  return json.loads(get_secret_value_response['SecretString'])"
   ]
  },
  {
   "cell_type": "code",
   "execution_count": null,
   "metadata": {},
   "outputs": [],
   "source": [
    "# getSecret()"
   ]
  },
  {
   "cell_type": "code",
   "execution_count": null,
   "metadata": {},
   "outputs": [],
   "source": []
  }
 ],
 "metadata": {
  "kernelspec": {
   "display_name": "python38",
   "language": "python",
   "name": "python38"
  }
 },
 "nbformat": 4,
 "nbformat_minor": 4
}
