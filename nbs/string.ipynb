{
 "cells": [
  {
   "cell_type": "code",
   "execution_count": null,
   "metadata": {},
   "outputs": [],
   "source": [
    "#default_exp string"
   ]
  },
  {
   "cell_type": "markdown",
   "metadata": {},
   "source": [
    "# String"
   ]
  },
  {
   "cell_type": "code",
   "execution_count": null,
   "metadata": {},
   "outputs": [],
   "source": [
    "#export\n",
    "def urlDecode(s:str)->dict:\n",
    "    \"\"\"Decode a url-encoded string into a dictionary of key/value pairs\"\"\"\n",
    "    return dict([x.split('=') for x in s.split('&')])"
   ]
  },
  {
   "cell_type": "code",
   "execution_count": null,
   "metadata": {},
   "outputs": [
    {
     "data": {
      "text/plain": [
       "{'referenceNo': '002200034675card1661484507.887204',\n",
       " 'gbpReferenceNo': 'gbp173512101931',\n",
       " 'amount': '7.00',\n",
       " 'currencyCode': '',\n",
       " 'resultCode': '00'}"
      ]
     },
     "execution_count": null,
     "metadata": {},
     "output_type": "execute_result"
    }
   ],
   "source": [
    "#hide\n",
    "event = {\"resource\": \"/redirectCallback\", \"path\": \"/redirectCallback\", \"httpMethod\": \"POST\", \"headers\": {\"accept-encoding\": \"gzip, deflate, br\", \"content-type\": \"application/x-www-form-urlencoded\", \"Host\": \"832hfbz2sc.execute-api.ap-southeast-1.amazonaws.com\", \"origin\": \"https://api.globalprimepay.com\", \"User-Agent\": \"Mozilla/5.0 (Macintosh; Intel Mac OS X 10_15_7) AppleWebKit/605.1.15 (KHTML, like Gecko) Version/15.6.1 Safari/605.1.15\", \"Via\": \"1.1 f5fb10f2e656b2ddb3f10fc15f264f0e.cloudfront.net (CloudFront)\", \"X-Amz-Cf-Id\": \"YZhTqxMtXjmoC6a3v296-IOm4MrFZPoGe4AX6GoWqJj4uOPQgu_yuw==\", \"X-Amzn-Trace-Id\": \"Root=1-63083de9-5302b72a630cfd5f41f899f4\", \"X-Forwarded-For\": \"104.28.248.88, 64.252.121.127\", \"X-Forwarded-Port\": \"443\", \"X-Forwarded-Proto\": \"https\"}, \"multiValueHeaders\": {\"accept-encoding\": [\"gzip, deflate, br\"], \"content-type\": [\"application/x-www-form-urlencoded\"], \"Host\": [\"832hfbz2sc.execute-api.ap-southeast-1.amazonaws.com\"], \"origin\": [\"https://api.globalprimepay.com\"], \"User-Agent\": [\"Mozilla/5.0 (Macintosh; Intel Mac OS X 10_15_7) AppleWebKit/605.1.15 (KHTML, like Gecko) Version/15.6.1 Safari/605.1.15\"], \"Via\": [\"1.1 f5fb10f2e656b2ddb3f10fc15f264f0e.cloudfront.net (CloudFront)\"], \"X-Amz-Cf-Id\": [\"YZhTqxMtXjmoC6a3v296-IOm4MrFZPoGe4AX6GoWqJj4uOPQgu_yuw==\"], \"X-Amzn-Trace-Id\": [\"Root=1-63083de9-5302b72a630cfd5f41f899f4\"], \"X-Forwarded-For\": [\"104.28.248.88, 64.252.121.127\"], \"X-Forwarded-Port\": [\"443\"], \"X-Forwarded-Proto\": [\"https\"]}, \"queryStringParameters\": {\"amount\": \"7.0\", \"orderId\": \"002200034675\", \"status\": \"success\", \"userId\": \"8ea7135b-8e82-49df-8c94-5b40bca5726c\"}, \"multiValueQueryStringParameters\": {\"amount\": [\"7.0\"], \"orderId\": [\"002200034675\"], \"status\": [\"success\"], \"userId\": [\"8ea7135b-8e82-49df-8c94-5b40bca5726c\"]}, \"pathParameters\": None, \"stageVariables\": None, \"requestContext\": {\"resourceId\": \"kfp75b\", \"resourcePath\": \"/redirectCallback\", \"httpMethod\": \"POST\", \"extendedRequestId\": \"Xc6cfFKNyQ0Fp2Q=\", \"requestTime\": \"26/Aug/2022:03:28:41 +0000\", \"path\": \"/Prod/redirectCallback\", \"accountId\": \"394922924679\", \"protocol\": \"HTTP/1.1\", \"stage\": \"Prod\", \"domainPrefix\": \"832hfbz2sc\", \"requestTimeEpoch\": 1661484521371, \"requestId\": \"6f1dcd0b-6992-4736-94eb-88eccade1530\", \"identity\": {\"cognitoIdentityPoolId\": None, \"accountId\": None, \"cognitoIdentityId\": None, \"caller\": None, \"sourceIp\": \"104.28.248.88\", \"principalOrgId\": None, \"accessKey\": None, \"cognitoAuthenticationType\": None, \"cognitoAuthenticationProvider\": None, \"userArn\": None, \"userAgent\": \"Mozilla/5.0 (Macintosh; Intel Mac OS X 10_15_7) AppleWebKit/605.1.15 (KHTML, like Gecko) Version/15.6.1 Safari/605.1.15\", \"user\": None}, \"domainName\": \"832hfbz2sc.execute-api.ap-southeast-1.amazonaws.com\", \"apiId\": \"832hfbz2sc\"}, \"body\": \"referenceNo=002200034675card1661484507.887204&gbpReferenceNo=gbp173512101931&amount=7.00&currencyCode=&resultCode=00\", \"isBase64Encoded\": False}\n",
    "urlDecode(event['body'])"
   ]
  },
  {
   "cell_type": "code",
   "execution_count": null,
   "metadata": {},
   "outputs": [],
   "source": []
  }
 ],
 "metadata": {
  "kernelspec": {
   "display_name": "Python 3.9.13 64-bit",
   "language": "python",
   "name": "python3"
  }
 },
 "nbformat": 4,
 "nbformat_minor": 2
}
