{
 "cells": [
  {
   "cell_type": "code",
   "execution_count": null,
   "metadata": {},
   "outputs": [],
   "source": [
    "# default_exp awsutil"
   ]
  },
  {
   "cell_type": "markdown",
   "metadata": {},
   "source": [
    "# AWS Util\n",
    "bunch of helper function for aws"
   ]
  },
  {
   "cell_type": "code",
   "execution_count": null,
   "metadata": {},
   "outputs": [],
   "source": [
    "# export\n",
    "import json\n",
    "import boto3\n",
    "from pprint import pprint\n",
    "\n",
    "\n",
    "def invokeLambdaWithApigatewayProxy(\n",
    "    payload, function_name, region_name=\"ap-southeast-1\", debug=False\n",
    "):\n",
    "    lambda_client = boto3.client(\"lambda\", region_name=region_name)\n",
    "    payload_json = json.dumps({\"body\": json.dumps(payload)})\n",
    "    response = lambda_client.invoke(\n",
    "        FunctionName=function_name,\n",
    "        InvocationType=\"RequestResponse\",  # RequestResponse waits for the response, Event is async\n",
    "        Payload=payload_json.encode(\"utf-8\"),\n",
    "    )\n",
    "    responsePayload = response[\"Payload\"].read().decode(\"utf-8\")\n",
    "    try:\n",
    "        result = json.loads(responsePayload)\n",
    "        body = json.loads(result[\"body\"])\n",
    "        result[\"body\"] = body\n",
    "        if debug:\n",
    "            pprint(responsePayload)\n",
    "        return result\n",
    "    except KeyError as e:\n",
    "        print(\"there is a keyerror perhaps the function failed\", e)\n",
    "        print(\"result is\")\n",
    "        pprint(responsePayload)\n",
    "        raise (e)\n",
    "    except Exception as e:\n",
    "        print(\"decoding failed\", e)\n",
    "        print(result)\n",
    "        pprint(responsePayload)\n",
    "        raise (e)"
   ]
  },
  {
   "cell_type": "code",
   "execution_count": null,
   "metadata": {},
   "outputs": [
    {
     "name": "stdout",
     "output_type": "stream",
     "text": [
      "('{\"body\": \"\\\\\" hello world\\\\\"\", \"statusCode\": 200, \"headers\": '\n",
      " '{\"Access-Control-Allow-Headers\": \"*\", \"Access-Control-Allow-Origin\": \"*\", '\n",
      " '\"Access-Control-Allow-Methods\": \"*\"}}')\n"
     ]
    },
    {
     "data": {
      "text/plain": [
       "' hello world'"
      ]
     },
     "execution_count": null,
     "metadata": {},
     "output_type": "execute_result"
    }
   ],
   "source": [
    "LAMBDA_FUNCTION_NAME = \"helloworld-master\"\n",
    "payload = {\"test\": \"test\"}\n",
    "invokeLambdaWithApigatewayProxy(\n",
    "    payload, function_name=LAMBDA_FUNCTION_NAME, debug=True\n",
    ")[\"body\"]"
   ]
  },
  {
   "cell_type": "code",
   "execution_count": null,
   "metadata": {},
   "outputs": [],
   "source": []
  }
 ],
 "metadata": {
  "kernelspec": {
   "display_name": "python312",
   "language": "python",
   "name": "python3"
  }
 },
 "nbformat": 4,
 "nbformat_minor": 2
}
