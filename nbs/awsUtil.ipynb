{
 "cells": [
  {
   "cell_type": "code",
   "execution_count": null,
   "metadata": {},
   "outputs": [],
   "source": [
    "# default_exp awsutil"
   ]
  },
  {
   "cell_type": "markdown",
   "metadata": {},
   "source": [
    "# AWS Util\n",
    "bunch of helper function for aws"
   ]
  },
  {
   "cell_type": "code",
   "execution_count": null,
   "metadata": {},
   "outputs": [],
   "source": [
    "# export\n",
    "import json\n",
    "import boto3\n",
    "from pprint import pprint\n",
    "\n",
    "\n",
    "def invokeLambdaWithApigatewayProxy(\n",
    "    payload, function_name, region_name=\"ap-southeast-1\", debug=False, queryparams={}\n",
    "):\n",
    "    \"\"\"\n",
    "    Invokes an AWS Lambda function through the API Gateway proxy integration, with support for query parameters.\n",
    "\n",
    "    Args:\n",
    "        payload (dict): The input data to send to the Lambda function. This will be\n",
    "            serialized to JSON and included in the 'body' of the request.\n",
    "        function_name (str): The name of the Lambda function to invoke.\n",
    "        region_name (str, optional): The AWS region where the Lambda function is deployed.\n",
    "            Defaults to 'ap-southeast-1'.\n",
    "        debug (bool, optional): If True, prints the raw response payload for debugging purposes.\n",
    "            Defaults to False.\n",
    "        query_params (dict, optional): A dictionary of query parameters to include in the request,\n",
    "            as if making a GET request. These parameters are serialized and included in the request.\n",
    "\n",
    "    Returns:\n",
    "        dict: The parsed response from the Lambda function, including the 'body' key\n",
    "            containing the JSON-decoded result.\n",
    "\n",
    "    Raises:\n",
    "        KeyError: If the Lambda function's response does not include a 'body' key.\n",
    "        Exception: If there is an error decoding the Lambda response payload.\n",
    "    \"\"\"\n",
    "    lambda_client = boto3.client(\"lambda\", region_name=region_name)\n",
    "    payload_json = json.dumps(\n",
    "        {\"body\": json.dumps(payload), \"queryStringParameters\": queryparams}\n",
    "    )\n",
    "    response = lambda_client.invoke(\n",
    "        FunctionName=function_name,\n",
    "        InvocationType=\"RequestResponse\",  # RequestResponse waits for the response, Event is async\n",
    "        Payload=payload_json.encode(\"utf-8\"),\n",
    "    )\n",
    "    responsePayload = response[\"Payload\"].read().decode(\"utf-8\")\n",
    "    try:\n",
    "        result = json.loads(responsePayload)\n",
    "        body = json.loads(result[\"body\"])\n",
    "        result[\"body\"] = body\n",
    "        if debug:\n",
    "            pprint(responsePayload)\n",
    "        return result\n",
    "    except KeyError as e:\n",
    "        print(\"there is a keyerror perhaps the function failed\", e)\n",
    "        print(\"result is\")\n",
    "        pprint(responsePayload)\n",
    "        raise (e)\n",
    "    except Exception as e:\n",
    "        print(\"decoding failed\", e)\n",
    "        print(result)\n",
    "        pprint(responsePayload)\n",
    "        raise (e)"
   ]
  },
  {
   "cell_type": "code",
   "execution_count": null,
   "metadata": {},
   "outputs": [
    {
     "name": "stdout",
     "output_type": "stream",
     "text": [
      "('{\"body\": \"\\\\\" hello world\\\\\"\", \"statusCode\": 200, \"headers\": '\n",
      " '{\"Access-Control-Allow-Headers\": \"*\", \"Access-Control-Allow-Origin\": \"*\", '\n",
      " '\"Access-Control-Allow-Methods\": \"*\"}}')\n"
     ]
    },
    {
     "data": {
      "text/plain": [
       "' hello world'"
      ]
     },
     "execution_count": null,
     "metadata": {},
     "output_type": "execute_result"
    }
   ],
   "source": [
    "LAMBDA_FUNCTION_NAME = \"helloworld-master\"\n",
    "payload = {\"test\": \"test\"}\n",
    "invokeLambdaWithApigatewayProxy(\n",
    "    payload, function_name=LAMBDA_FUNCTION_NAME, debug=True\n",
    ")[\"body\"]"
   ]
  },
  {
   "cell_type": "code",
   "execution_count": null,
   "metadata": {},
   "outputs": [],
   "source": []
  }
 ],
 "metadata": {
  "kernelspec": {
   "display_name": "python312",
   "language": "python",
   "name": "python3"
  }
 },
 "nbformat": 4,
 "nbformat_minor": 2
}
