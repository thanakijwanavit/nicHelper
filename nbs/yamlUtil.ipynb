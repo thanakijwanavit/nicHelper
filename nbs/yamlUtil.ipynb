{
 "cells": [
  {
   "cell_type": "code",
   "execution_count": 1,
   "metadata": {},
   "outputs": [],
   "source": [
    "# default_exp yamlUtil"
   ]
  },
  {
   "cell_type": "markdown",
   "metadata": {},
   "source": [
    "# yamlUtil\n",
    "> helpers for yaml"
   ]
  },
  {
   "cell_type": "code",
   "execution_count": 2,
   "metadata": {},
   "outputs": [],
   "source": [
    "#hide\n",
    "from nbdev.showdoc import *\n"
   ]
  },
  {
   "cell_type": "code",
   "execution_count": 3,
   "metadata": {},
   "outputs": [],
   "source": [
    "#export\n",
    "from beartype import beartype\n",
    "import yaml, requests"
   ]
  },
  {
   "cell_type": "markdown",
   "metadata": {},
   "source": [
    "# loadYamlUrl"
   ]
  },
  {
   "cell_type": "code",
   "execution_count": 4,
   "metadata": {},
   "outputs": [],
   "source": [
    "#export\n",
    "def loadYamlUrl(url:str, headers:dict = {}, loader=yaml.FullLoader)->dict:\n",
    "  '''\n",
    "    load yaml from url as a dictionary for example:\n",
    "      testUrl = 'https://raw.githubusercontent.com/thanakijwanavit/villaMasterSchema/dev/coupon/testData/buyXGetY.yaml'\n",
    "      loadYamlUrl(testUrl) \n",
    "    input:\n",
    "      url:str: url of the file\n",
    "      headers:Optional[dict]:headers\n",
    "      loader:yaml.Loader: optional yaml loader default is yaml.FullLoader\n",
    "    response:\n",
    "      dict: yaml load of the file\n",
    "  '''\n",
    "  r = requests.get(url, headers=headers).content\n",
    "  return yaml.load(r, Loader = loader)\n",
    "  "
   ]
  },
  {
   "cell_type": "code",
   "execution_count": 5,
   "metadata": {},
   "outputs": [
    {
     "data": {
      "text/plain": [
       "{404: 'Not Found'}"
      ]
     },
     "execution_count": 5,
     "metadata": {},
     "output_type": "execute_result"
    }
   ],
   "source": [
    "testUrl = 'https://raw.githubusercontent.com/thanakijwanavit/villaMasterSchema/dev/coupon/testData/buyXGetY.yaml'\n",
    "loadYamlUrl(testUrl)"
   ]
  },
  {
   "cell_type": "code",
   "execution_count": 6,
   "metadata": {},
   "outputs": [],
   "source": [
    "#export\n",
    "@beartype\n",
    "def loadYaml(path:str):\n",
    "  return yaml.load(open(path).read(), Loader=yaml.FullLoader)"
   ]
  },
  {
   "cell_type": "code",
   "execution_count": 7,
   "metadata": {},
   "outputs": [
    {
     "data": {
      "text/plain": [
       "{'version': '3',\n",
       " 'services': {'fastai': {'restart': 'unless-stopped',\n",
       "   'working_dir': '/data',\n",
       "   'image': 'fastai/codespaces',\n",
       "   'logging': {'driver': 'json-file', 'options': {'max-size': '50m'}},\n",
       "   'stdin_open': True,\n",
       "   'tty': True,\n",
       "   'volumes': ['.:/data/']},\n",
       "  'notebook': {'restart': 'unless-stopped',\n",
       "   'working_dir': '/data',\n",
       "   'image': 'fastai/codespaces',\n",
       "   'logging': {'driver': 'json-file', 'options': {'max-size': '50m'}},\n",
       "   'stdin_open': True,\n",
       "   'tty': True,\n",
       "   'volumes': ['.:/data/'],\n",
       "   'command': 'bash -c \"pip install -e . && jupyter notebook --allow-root --no-browser --ip=0.0.0.0 --port=8080 --NotebookApp.token=\\'\\' --NotebookApp.password=\\'\\'\"',\n",
       "   'ports': ['8080:8080']},\n",
       "  'watcher': {'restart': 'unless-stopped',\n",
       "   'working_dir': '/data',\n",
       "   'image': 'fastai/codespaces',\n",
       "   'logging': {'driver': 'json-file', 'options': {'max-size': '50m'}},\n",
       "   'stdin_open': True,\n",
       "   'tty': True,\n",
       "   'volumes': ['.:/data/'],\n",
       "   'command': 'watchmedo shell-command --command nbdev_build_docs --pattern *.ipynb --recursive --drop',\n",
       "   'network_mode': 'host'},\n",
       "  'jekyll': {'restart': 'unless-stopped',\n",
       "   'working_dir': '/data',\n",
       "   'image': 'fastai/codespaces',\n",
       "   'logging': {'driver': 'json-file', 'options': {'max-size': '50m'}},\n",
       "   'stdin_open': True,\n",
       "   'tty': True,\n",
       "   'volumes': ['.:/data/'],\n",
       "   'ports': ['4000:4000'],\n",
       "   'command': 'bash -c \"cp -r docs_src docs && pip install . && nbdev_build_docs && cd docs && bundle i && chmod -R u+rwx . && bundle exec jekyll serve --host 0.0.0.0\"\\n'}}}"
      ]
     },
     "execution_count": 7,
     "metadata": {},
     "output_type": "execute_result"
    }
   ],
   "source": [
    "loadYaml('../docker-compose.yml')"
   ]
  },
  {
   "cell_type": "code",
   "execution_count": null,
   "metadata": {},
   "outputs": [],
   "source": []
  }
 ],
 "metadata": {
  "kernelspec": {
   "display_name": "python38",
   "language": "python",
   "name": "python38"
  },
  "language_info": {
   "codemirror_mode": {
    "name": "ipython",
    "version": 3
   },
   "file_extension": ".py",
   "mimetype": "text/x-python",
   "name": "python",
   "nbconvert_exporter": "python",
   "pygments_lexer": "ipython3",
   "version": "3.8.8"
  }
 },
 "nbformat": 4,
 "nbformat_minor": 4
}
