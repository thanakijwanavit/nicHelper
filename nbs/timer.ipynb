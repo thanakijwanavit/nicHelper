{
 "cells": [
  {
   "cell_type": "code",
   "execution_count": null,
   "metadata": {},
   "outputs": [],
   "source": [
    "# default_exp timer"
   ]
  },
  {
   "cell_type": "markdown",
   "metadata": {},
   "source": [
    "# timer\n",
    "> time and profile your function"
   ]
  },
  {
   "cell_type": "code",
   "execution_count": null,
   "metadata": {},
   "outputs": [],
   "source": [
    "#hide\n",
    "from nbdev.showdoc import *\n"
   ]
  },
  {
   "cell_type": "code",
   "execution_count": null,
   "metadata": {},
   "outputs": [],
   "source": [
    "#export\n",
    "from nicHelper.wrappers import add_class_method,add_method,add_static_method\n",
    "from datetime import datetime, timedelta\n",
    "import pytz\n",
    "import logging\n",
    "logger = logging.getLogger(name='timer')"
   ]
  },
  {
   "cell_type": "code",
   "execution_count": null,
   "metadata": {},
   "outputs": [],
   "source": [
    "logger.setLevel(logging.DEBUG)"
   ]
  },
  {
   "cell_type": "markdown",
   "metadata": {},
   "source": [
    "# timer class"
   ]
  },
  {
   "cell_type": "code",
   "execution_count": null,
   "metadata": {},
   "outputs": [],
   "source": [
    "#export\n",
    "class Timer:\n",
    "  '''\n",
    "  This is the class that will be used for the timer\n",
    "  '''\n",
    "  def __init__(self):\n",
    "    self.timezone = pytz.timezone(\"UTC\")\n",
    "    self.start_timer()\n",
    "  pass\n"
   ]
  },
  {
   "cell_type": "markdown",
   "metadata": {},
   "source": [
    "## start timer"
   ]
  },
  {
   "cell_type": "code",
   "execution_count": null,
   "metadata": {},
   "outputs": [],
   "source": [
    "#export\n",
    "@add_method(Timer)\n",
    "def start_timer(self):\n",
    "  '''\n",
    "  this method sets the starting time t0 to the current time\n",
    "  '''\n",
    "  self.t0 = datetime.now(tz=self.timezone)\n",
    "@add_method(Timer)\n",
    "def reset_timer(self):\n",
    "  '''\n",
    "  this method resets t0 to the current time\n",
    "  '''\n",
    "  self.t0 = datetime.now(tz=self.timezone)"
   ]
  },
  {
   "cell_type": "markdown",
   "metadata": {},
   "source": [
    "### test"
   ]
  },
  {
   "cell_type": "code",
   "execution_count": null,
   "metadata": {},
   "outputs": [
    {
     "data": {
      "text/plain": [
       "datetime.datetime(2021, 7, 5, 5, 58, 29, 744798, tzinfo=<UTC>)"
      ]
     },
     "execution_count": null,
     "metadata": {},
     "output_type": "execute_result"
    }
   ],
   "source": [
    "timer = Timer()\n",
    "timer.t0"
   ]
  },
  {
   "cell_type": "markdown",
   "metadata": {},
   "source": [
    "## printTime"
   ]
  },
  {
   "cell_type": "code",
   "execution_count": null,
   "metadata": {},
   "outputs": [],
   "source": [
    "#export\n",
    "@add_method(Timer)\n",
    "def print_time(self, description = 'function took'):\n",
    "  '''\n",
    "  this method subtracts the current time by t0 and prints the value in seconds to find out time between start timer and this method \\n\n",
    "  description: str: this is the string to be added before the value of time taken, default = 'function took'\n",
    "  '''\n",
    "  t1:timedelta = datetime.now(tz=self.timezone) - self.t0\n",
    "  print(f'{description} :{t1.total_seconds()} s')\n",
    "  return t1.total_seconds()"
   ]
  },
  {
   "cell_type": "code",
   "execution_count": null,
   "metadata": {},
   "outputs": [
    {
     "name": "stdout",
     "output_type": "stream",
     "text": [
      "function took :0.90945 s\n"
     ]
    },
    {
     "data": {
      "text/plain": [
       "0.90945"
      ]
     },
     "execution_count": null,
     "metadata": {},
     "output_type": "execute_result"
    }
   ],
   "source": [
    "timer.print_time()"
   ]
  },
  {
   "cell_type": "markdown",
   "metadata": {},
   "source": [
    "## print Reset"
   ]
  },
  {
   "cell_type": "code",
   "execution_count": null,
   "metadata": {},
   "outputs": [],
   "source": [
    "#export\n",
    "@add_method(Timer)\n",
    "def print_reset(self, description = 'function took'):\n",
    "  '''\n",
    "  print and reset timer \\n\n",
    "  description: str: description of the item to print\n",
    "  '''\n",
    "\n",
    "  r = self.print_time(description = description)\n",
    "  self.reset_timer()\n",
    "  return r"
   ]
  },
  {
   "cell_type": "code",
   "execution_count": null,
   "metadata": {},
   "outputs": [
    {
     "name": "stdout",
     "output_type": "stream",
     "text": [
      "test took :1.895586 s\n"
     ]
    },
    {
     "data": {
      "text/plain": [
       "1.895586"
      ]
     },
     "execution_count": null,
     "metadata": {},
     "output_type": "execute_result"
    }
   ],
   "source": [
    "timer.print_reset('test took')"
   ]
  },
  {
   "cell_type": "markdown",
   "metadata": {},
   "source": [
    "## Log time"
   ]
  },
  {
   "cell_type": "code",
   "execution_count": null,
   "metadata": {},
   "outputs": [],
   "source": [
    "#export\n",
    "@add_method(Timer)\n",
    "def log_time(self, description = 'fuction took', logger = logger.debug):\n",
    "  '''\n",
    "  this method subtracts the current time by t0 and prints the value in seconds to find out time between start timer and this method \\n\n",
    "  parameters:\n",
    "    description: str: this is the string to be added before the value of time taken, default = 'function took'\n",
    "    logger: callable: a callable for logging, default: logging.debug\n",
    "  response:\n",
    "    time:float:: time in second\n",
    "  '''\n",
    "  t1:timedelta = datetime.now(tz=self.timezone) - self.t0\n",
    "  logger(f'{description} :{t1.total_seconds()} s')\n",
    "  return t1.total_seconds()"
   ]
  },
  {
   "cell_type": "markdown",
   "metadata": {},
   "source": [
    "### test"
   ]
  },
  {
   "cell_type": "code",
   "execution_count": null,
   "metadata": {},
   "outputs": [
    {
     "data": {
      "text/plain": [
       "0.682454"
      ]
     },
     "execution_count": null,
     "metadata": {},
     "output_type": "execute_result"
    }
   ],
   "source": [
    "timer.log_time()"
   ]
  },
  {
   "cell_type": "code",
   "execution_count": null,
   "metadata": {},
   "outputs": [],
   "source": [
    "#export\n",
    "@add_method(Timer)\n",
    "def log_reset(self, description = 'function took', logger = logger.debug):\n",
    "  '''\n",
    "  print and reset timer \\n\n",
    "  parameters:\n",
    "    description:  str: description of the item to print\n",
    "    logger: callable: a callable for logging, default: logging.debug\n",
    "  response:\n",
    "    time:float:: time in second\n",
    "    \n",
    "  '''\n",
    "\n",
    "  r = self.log_time(description = description,logger=logger)\n",
    "  self.reset_timer()\n",
    "  return r"
   ]
  },
  {
   "cell_type": "markdown",
   "metadata": {},
   "source": [
    "### test"
   ]
  },
  {
   "cell_type": "code",
   "execution_count": null,
   "metadata": {},
   "outputs": [
    {
     "data": {
      "text/plain": [
       "1.802159"
      ]
     },
     "execution_count": null,
     "metadata": {},
     "output_type": "execute_result"
    }
   ],
   "source": [
    "timer.log_reset()"
   ]
  },
  {
   "cell_type": "code",
   "execution_count": null,
   "metadata": {},
   "outputs": [],
   "source": []
  }
 ],
 "metadata": {
  "kernelspec": {
   "display_name": "conda_python38",
   "language": "python",
   "name": "conda_python38"
  }
 },
 "nbformat": 4,
 "nbformat_minor": 4
}
