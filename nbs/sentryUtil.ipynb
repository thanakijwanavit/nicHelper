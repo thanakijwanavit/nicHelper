{
 "cells": [
  {
   "cell_type": "code",
   "execution_count": 1,
   "metadata": {},
   "outputs": [],
   "source": [
    "#default_exp sentryUtil"
   ]
  },
  {
   "cell_type": "markdown",
   "metadata": {},
   "source": [
    "# sentryUtil"
   ]
  },
  {
   "cell_type": "code",
   "execution_count": 2,
   "metadata": {},
   "outputs": [
    {
     "data": {
      "text/plain": [
       "<sentry_sdk.hub._InitGuard at 0x7f5b437396a0>"
      ]
     },
     "execution_count": 2,
     "metadata": {},
     "output_type": "execute_result"
    }
   ],
   "source": [
    "#hide\n",
    "import sentry_sdk\n",
    "sentry_sdk.init(\n",
    "    \"https://0bab4064545e4a95b35d4e73f20f7632@o839457.ingest.sentry.io/5894971\",\n",
    "\n",
    "    # Set traces_sample_rate to 1.0 to capture 100%\n",
    "    # of transactions for performance monitoring.\n",
    "    # We recommend adjusting this value in production.\n",
    "    traces_sample_rate=1.0\n",
    ")"
   ]
  },
  {
   "cell_type": "code",
   "execution_count": 3,
   "metadata": {},
   "outputs": [],
   "source": [
    "#export\n",
    "from sentry_sdk import add_breadcrumb, capture_exception, capture_message\n",
    "from nicHelper.exception import traceback\n",
    "from typing import Any"
   ]
  },
  {
   "cell_type": "code",
   "execution_count": 4,
   "metadata": {},
   "outputs": [],
   "source": [
    "#export\n",
    "def logSentry(message:str, data:Any = (lambda :{})(), level:str = 'info', section:str='main'):\n",
    "  '''\n",
    "    just add docs for ease of logging to sentry\n",
    "    Input:\n",
    "      message ::str:: required :: message to send to sentry\n",
    "      data ::dict:: optional :: and object to send to sentry (default is an empty dict)\n",
    "      level ::str::optional:: log level (default:info)\n",
    "      section ::str::optional:: section name or function name (default: main)\n",
    "    Response:\n",
    "      Bool:: true means logged properly, false for error, print error message to console\n",
    "  '''\n",
    "  try:\n",
    "    add_breadcrumb(\n",
    "      category=section,\n",
    "      data={'data':data},\n",
    "      level=level,\n",
    "      message=message\n",
    "    )\n",
    "    return True\n",
    "  except Exception as e:\n",
    "    print(message, data, level, section)\n",
    "    print(f'error is {e}, {traceback()}')\n",
    "    return False"
   ]
  },
  {
   "cell_type": "code",
   "execution_count": 5,
   "metadata": {},
   "outputs": [
    {
     "data": {
      "text/plain": [
       "'dc12ff9a1b9d421fbf03391b6b75114c'"
      ]
     },
     "execution_count": 5,
     "metadata": {},
     "output_type": "execute_result"
    }
   ],
   "source": [
    "logSentry('hello', {'hello':'this is a test'}, level='error', section = 'test')\n",
    "capture_message('testing')"
   ]
  },
  {
   "cell_type": "markdown",
   "metadata": {},
   "source": [
    "## full example"
   ]
  },
  {
   "cell_type": "code",
   "execution_count": 6,
   "metadata": {},
   "outputs": [
    {
     "data": {
      "text/plain": [
       "True"
      ]
     },
     "execution_count": 6,
     "metadata": {},
     "output_type": "execute_result"
    }
   ],
   "source": [
    "from nicHelper.sentryUtil import logSentry\n",
    "logSentry('this is a test', {'testobject': 'testvalue'})"
   ]
  },
  {
   "cell_type": "code",
   "execution_count": null,
   "metadata": {},
   "outputs": [],
   "source": []
  }
 ],
 "metadata": {
  "kernelspec": {
   "display_name": "python38",
   "language": "python",
   "name": "python38"
  },
  "language_info": {
   "codemirror_mode": {
    "name": "ipython",
    "version": 3
   },
   "file_extension": ".py",
   "mimetype": "text/x-python",
   "name": "python",
   "nbconvert_exporter": "python",
   "pygments_lexer": "ipython3",
   "version": "3.8.8"
  }
 },
 "nbformat": 4,
 "nbformat_minor": 4
}
