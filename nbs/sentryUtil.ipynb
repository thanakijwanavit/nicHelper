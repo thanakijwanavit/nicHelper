{
 "cells": [
  {
   "cell_type": "code",
   "execution_count": null,
   "metadata": {},
   "outputs": [],
   "source": [
    "#default_exp sentryUtil"
   ]
  },
  {
   "cell_type": "markdown",
   "metadata": {},
   "source": [
    "# sentryUtil"
   ]
  },
  {
   "cell_type": "code",
   "execution_count": null,
   "metadata": {},
   "outputs": [
    {
     "data": {
      "text/plain": [
       "<sentry_sdk.hub._InitGuard at 0x10f30d280>"
      ]
     },
     "execution_count": null,
     "metadata": {},
     "output_type": "execute_result"
    }
   ],
   "source": [
    "#hide\n",
    "import sentry_sdk\n",
    "sentry_sdk.init(\n",
    "    \"https://0bab4064545e4a95b35d4e73f20f7632@o839457.ingest.sentry.io/5894971\",\n",
    "\n",
    "    # Set traces_sample_rate to 1.0 to capture 100%\n",
    "    # of transactions for performance monitoring.\n",
    "    # We recommend adjusting this value in production.\n",
    "    traces_sample_rate=1.0\n",
    ")"
   ]
  },
  {
   "cell_type": "code",
   "execution_count": null,
   "metadata": {},
   "outputs": [],
   "source": [
    "#export\n",
    "from sentry_sdk import add_breadcrumb, capture_exception, capture_message\n",
    "from nicHelper.exception import traceback\n",
    "from typing import Any\n",
    "from copy import deepcopy\n",
    "from nicHelper.exception import errorString\n",
    "import functools, sentry_sdk, inspect"
   ]
  },
  {
   "cell_type": "code",
   "execution_count": null,
   "metadata": {},
   "outputs": [],
   "source": [
    "#export\n",
    "def logSentry(message:str, data:Any = (lambda :{})(), level:str = 'info', section:str='main'):\n",
    "  '''\n",
    "    just add docs for ease of logging to sentry\n",
    "    Input:\n",
    "      message ::str:: required :: message to send to sentry\n",
    "      data ::dict:: optional :: and object to send to sentry (default is an empty dict)\n",
    "      level ::str::optional:: log level (default:info)\n",
    "      section ::str::optional:: section name or function name (default: main)\n",
    "    Response:\n",
    "      Bool:: true means logged properly, false for error, print error message to console\n",
    "  '''\n",
    "  try:\n",
    "    add_breadcrumb(\n",
    "      category=section,\n",
    "      data={'data':deepcopy(data)},\n",
    "      level=level,\n",
    "      message=message\n",
    "    )\n",
    "    return True\n",
    "  except Exception as e:\n",
    "    print(message, data, level, section)\n",
    "    print(f'error is {e}, {traceback()}')\n",
    "    return False"
   ]
  },
  {
   "cell_type": "code",
   "execution_count": null,
   "metadata": {},
   "outputs": [
    {
     "data": {
      "text/plain": [
       "'35bc2f85abe84f889768ba445ffb4c7e'"
      ]
     },
     "execution_count": null,
     "metadata": {},
     "output_type": "execute_result"
    }
   ],
   "source": [
    "logSentry('hello', {'hello':'this is a test'}, level='error', section = 'test')\n",
    "capture_message('testing')"
   ]
  },
  {
   "cell_type": "markdown",
   "metadata": {},
   "source": [
    "## full example"
   ]
  },
  {
   "cell_type": "code",
   "execution_count": null,
   "metadata": {},
   "outputs": [
    {
     "data": {
      "text/plain": [
       "True"
      ]
     },
     "execution_count": null,
     "metadata": {},
     "output_type": "execute_result"
    }
   ],
   "source": [
    "from nicHelper.sentryUtil import logSentry\n",
    "logSentry('this is a test', {'testobject': 'testvalue'})"
   ]
  },
  {
   "cell_type": "markdown",
   "metadata": {},
   "source": [
    "# autologging to sentry\n",
    "require sentry_sdk"
   ]
  },
  {
   "cell_type": "code",
   "execution_count": null,
   "metadata": {},
   "outputs": [],
   "source": [
    "#export\n",
    "def autologSentry(originalFunction=None, verbose=False):\n",
    "  def outer(f):\n",
    "    @functools.wraps(f)\n",
    "    def inner(*args,**kwargs):\n",
    "      try:\n",
    "        r = f(*args,**kwargs)\n",
    "        message = str(f.__name__)+str(inspect.signature(f))\n",
    "        sentry_sdk.add_breadcrumb(category=f.__name__, message=message, data={\n",
    "          'args': args, 'kwargs': kwargs, 'output':r }, level='info')\n",
    "        if verbose: print(f.__name__, message, { 'args': args, 'kwargs': kwargs, 'output':r })\n",
    "        return r\n",
    "      except Exception as e:\n",
    "        sentry_sdk.add_breadcrumb(category=f.__name__, message=errorString(), data={\n",
    "          'args': args, 'kwargs': kwargs, 'error': str(e) }, level='critical')\n",
    "        if verbose: print(f.__name__, errorString(), {'args': args, 'kwargs': kwargs, 'error':str(e)} )\n",
    "        raise e\n",
    "    return inner\n",
    "  if originalFunction: return outer(originalFunction)\n",
    "  return outer"
   ]
  },
  {
   "cell_type": "code",
   "execution_count": null,
   "metadata": {},
   "outputs": [
    {
     "name": "stdout",
     "output_type": "stream",
     "text": [
      "testFunction testFunction(input_) {'args': ('123',), 'kwargs': {}, 'output': '1231'}\n"
     ]
    },
    {
     "data": {
      "text/plain": [
       "'1231'"
      ]
     },
     "execution_count": null,
     "metadata": {},
     "output_type": "execute_result"
    }
   ],
   "source": [
    "@autologSentry(verbose=True)\n",
    "def testFunction(input_):\n",
    "  '''this is crazy'''\n",
    "  return input_ + '1'\n",
    "\n",
    "testFunction('123')"
   ]
  },
  {
   "cell_type": "code",
   "execution_count": null,
   "metadata": {},
   "outputs": [
    {
     "name": "stdout",
     "output_type": "stream",
     "text": [
      "Help on function testFunction in module __main__:\n",
      "\n",
      "testFunction(input_)\n",
      "    this is crazy\n",
      "\n"
     ]
    }
   ],
   "source": [
    "help(testFunction)"
   ]
  },
  {
   "cell_type": "code",
   "execution_count": null,
   "metadata": {},
   "outputs": [],
   "source": [
    "from dataclasses import dataclass\n",
    "@dataclass\n",
    "class TestClass:\n",
    "    @autologSentry\n",
    "    def test(self, input_):\n",
    "        return input_"
   ]
  },
  {
   "cell_type": "code",
   "execution_count": null,
   "metadata": {},
   "outputs": [
    {
     "data": {
      "text/plain": [
       "'test'"
      ]
     },
     "execution_count": null,
     "metadata": {},
     "output_type": "execute_result"
    }
   ],
   "source": [
    "TestClass().test('test')"
   ]
  },
  {
   "cell_type": "code",
   "execution_count": null,
   "metadata": {},
   "outputs": [
    {
     "name": "stdout",
     "output_type": "stream",
     "text": [
      "Help on function test in module __main__:\n",
      "\n",
      "test(self, input_)\n",
      "\n"
     ]
    }
   ],
   "source": [
    "help(TestClass.test)"
   ]
  },
  {
   "cell_type": "code",
   "execution_count": null,
   "metadata": {},
   "outputs": [],
   "source": []
  }
 ],
 "metadata": {
  "kernelspec": {
   "display_name": "Python 3.9.12 ('python39')",
   "language": "python",
   "name": "python3"
  }
 },
 "nbformat": 4,
 "nbformat_minor": 4
}
