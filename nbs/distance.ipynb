{
 "cells": [
  {
   "cell_type": "code",
   "execution_count": null,
   "metadata": {},
   "outputs": [],
   "source": [
    "# default_exp distance"
   ]
  },
  {
   "cell_type": "markdown",
   "metadata": {},
   "source": [
    "# distance\n",
    "> find driving distance using bing and osrm api"
   ]
  },
  {
   "cell_type": "code",
   "execution_count": null,
   "metadata": {},
   "outputs": [],
   "source": [
    "#hide\n",
    "from nbdev.showdoc import *\n"
   ]
  },
  {
   "cell_type": "code",
   "execution_count": null,
   "metadata": {},
   "outputs": [],
   "source": [
    "#export\n",
    "from beartype import beartype\n",
    "from typing import List, Dict, Tuple\n",
    "import pandas as pd\n",
    "import yaml, requests"
   ]
  },
  {
   "cell_type": "markdown",
   "metadata": {},
   "source": [
    "# osrm"
   ]
  },
  {
   "cell_type": "code",
   "execution_count": null,
   "metadata": {},
   "outputs": [],
   "source": [
    "#export\n",
    "@beartype\n",
    "def getDistanceOsrm(lat1:float, lon1:float, lat2:float, lon2:float, \n",
    "                    osrmEndpoint = 'http://router.project-osrm.org')->float:\n",
    "  '''\n",
    "    get driving distance between 2 points using osrm url\n",
    "  '''\n",
    "  url = f\"{osrmEndpoint}/route/v1/bike/{lon1},{lat1};{lon2},{lat2}?overview=false\"\n",
    "  r = requests.get(url)\n",
    "  try:\n",
    "    distance = r.json()['routes'][0]['distance']\n",
    "    return float(distance)\n",
    "  except KeyError as e:\n",
    "    raise KeyError(f\"error getting distance got {r.json()} from urll \\n{e}\")\n",
    "  "
   ]
  },
  {
   "cell_type": "code",
   "execution_count": null,
   "metadata": {},
   "outputs": [
    {
     "name": "stdout",
     "output_type": "stream",
     "text": [
      "CPU times: user 5.17 ms, sys: 260 µs, total: 5.43 ms\n",
      "Wall time: 881 ms\n"
     ]
    },
    {
     "data": {
      "text/plain": [
       "'the distance is 17608.5 m'"
      ]
     },
     "execution_count": null,
     "metadata": {},
     "output_type": "execute_result"
    }
   ],
   "source": [
    "%%time\n",
    "#example\n",
    "testData = '''\n",
    "lat1 : 13.732048\n",
    "lon1 : 100.567623\n",
    "lat2 : 13.856271\n",
    "lon2 : 100.546467\n",
    "'''\n",
    "i = yaml.load(testData, Loader=yaml.FullLoader)\n",
    "f'the distance is {getDistanceOsrm(**i)} m'"
   ]
  },
  {
   "cell_type": "markdown",
   "metadata": {},
   "source": [
    "# get distance bing"
   ]
  },
  {
   "cell_type": "code",
   "execution_count": null,
   "metadata": {},
   "outputs": [],
   "source": [
    "#export\n",
    "@beartype\n",
    "def getDistBing(origin:Tuple[float,float]\n",
    "                ,destinations:List[Tuple[float,float]],\n",
    "                 bingApiKey = '')->pd.DataFrame:\n",
    "  '''\n",
    "    accept a list of tuple origins and destinations, return a dataframe\n",
    "    input:\n",
    "      origin :: Tuple[float,float] : (lat,long) of the origin\n",
    "      destinations:: List[Tuple[float,float]]: [(lat,long),(lat,long)] of the destinations\n",
    "      bingApiKey:str:: apikey from bing map\n",
    "    response:\n",
    "      pd.DataFrame with [dist, dur, lat, long] as indexes, all in float, \n",
    "          all distances in m and time in s\n",
    "  '''\n",
    "  \n",
    "  parameters = {\n",
    "    'origins' : f'{origin[0]},{origin[1]}',\n",
    "    'destinations' : ';'.join(f'{d[0]},{d[1]}'for d in destinations),\n",
    "    'travelMode' : 'driving',\n",
    "    'key': bingApiKey\n",
    "  }\n",
    "  url = 'https://dev.virtualearth.net/REST/v1/Routes/DistanceMatrix'\n",
    "  r =  requests.get(url,params=parameters).json()\n",
    "  results:pd.DataFrame = pd.DataFrame(r['resourceSets'][0]['resources'][0]['results'])\n",
    "  destinationsDf:pd.DataFrame = pd.DataFrame(destinations)\n",
    "  destinationsDf.columns = ['lat', 'long']\n",
    "  results = pd.concat([results,destinationsDf],axis=1).reindex(\n",
    "    ['travelDistance','travelDuration', 'lat','long'], axis = 1)\n",
    "  results.columns  \n",
    "#   return results\n",
    "#   return [(result['travelDistance'], result['travelDuration'])for result in results]\n",
    "#   return [result['travelDistance'] for result in results], [result['travelDuration'] for result in results]\n",
    "\n"
   ]
  },
  {
   "cell_type": "code",
   "execution_count": null,
   "metadata": {},
   "outputs": [
    {
     "data": {
      "text/html": [
       "<div>\n",
       "<style scoped>\n",
       "    .dataframe tbody tr th:only-of-type {\n",
       "        vertical-align: middle;\n",
       "    }\n",
       "\n",
       "    .dataframe tbody tr th {\n",
       "        vertical-align: top;\n",
       "    }\n",
       "\n",
       "    .dataframe thead th {\n",
       "        text-align: right;\n",
       "    }\n",
       "</style>\n",
       "<table border=\"1\" class=\"dataframe\">\n",
       "  <thead>\n",
       "    <tr style=\"text-align: right;\">\n",
       "      <th></th>\n",
       "      <th>travelDistance</th>\n",
       "      <th>travelDuration</th>\n",
       "      <th>lat</th>\n",
       "      <th>long</th>\n",
       "    </tr>\n",
       "  </thead>\n",
       "  <tbody>\n",
       "    <tr>\n",
       "      <th>0</th>\n",
       "      <td>18.208</td>\n",
       "      <td>25.7167</td>\n",
       "      <td>13.856271</td>\n",
       "      <td>100.546467</td>\n",
       "    </tr>\n",
       "    <tr>\n",
       "      <th>1</th>\n",
       "      <td>18.812</td>\n",
       "      <td>27.2167</td>\n",
       "      <td>13.856444</td>\n",
       "      <td>100.549487</td>\n",
       "    </tr>\n",
       "    <tr>\n",
       "      <th>2</th>\n",
       "      <td>19.490</td>\n",
       "      <td>29.3833</td>\n",
       "      <td>13.857444</td>\n",
       "      <td>100.549487</td>\n",
       "    </tr>\n",
       "  </tbody>\n",
       "</table>\n",
       "</div>"
      ],
      "text/plain": [
       "   travelDistance  travelDuration        lat        long\n",
       "0          18.208         25.7167  13.856271  100.546467\n",
       "1          18.812         27.2167  13.856444  100.549487\n",
       "2          19.490         29.3833  13.857444  100.549487"
      ]
     },
     "execution_count": null,
     "metadata": {},
     "output_type": "execute_result"
    }
   ],
   "source": [
    "# example\n",
    "from nicHelper.secrets import getSecret\n",
    "testData = '''\n",
    "origin:\n",
    "  !!python/tuple\n",
    "  - 13.732048\n",
    "  - 100.567623\n",
    "destinations:\n",
    "  -  !!python/tuple\n",
    "    - 13.856271\n",
    "    - 100.546467\n",
    "  -  !!python/tuple\n",
    "    - 13.856444\n",
    "    - 100.549487\n",
    "  - !!python/tuple\n",
    "    - 13.857444\n",
    "    - 100.549487\n",
    "'''\n",
    "i = yaml.load(testData, Loader = yaml.FullLoader)\n",
    "\n",
    "apikey = getSecret( name = 'webApiKeys')['bing']\n",
    "results = getDistBing( **i, bingApiKey = apikey )\n",
    "results\n",
    "# print(f'distances are {dist}, time taken are {timetaken}')"
   ]
  },
  {
   "cell_type": "code",
   "execution_count": null,
   "metadata": {},
   "outputs": [],
   "source": []
  },
  {
   "cell_type": "code",
   "execution_count": null,
   "metadata": {},
   "outputs": [],
   "source": []
  }
 ],
 "metadata": {
  "kernelspec": {
   "display_name": "python38",
   "language": "python",
   "name": "python38"
  }
 },
 "nbformat": 4,
 "nbformat_minor": 4
}
