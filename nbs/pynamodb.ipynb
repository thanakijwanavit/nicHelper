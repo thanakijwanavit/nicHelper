{
 "cells": [
  {
   "cell_type": "code",
   "execution_count": null,
   "metadata": {},
   "outputs": [],
   "source": [
    "# default_exp pynamodb"
   ]
  },
  {
   "cell_type": "markdown",
   "metadata": {},
   "source": [
    "# pynamodb\n",
    "> special pynamodb attributes"
   ]
  },
  {
   "cell_type": "markdown",
   "metadata": {},
   "source": [
    "## Imports"
   ]
  },
  {
   "cell_type": "code",
   "execution_count": null,
   "metadata": {},
   "outputs": [],
   "source": [
    "#export\n",
    "from pynamodb.attributes import Attribute, UnicodeAttribute, NumberAttribute\n",
    "from typing import Any, Optional, Type, TypeVar\n",
    "from enum import Enum\n",
    "import requests, dpath.util, yaml, jsonschema, json, os, pynamodb, pytest\n",
    "from pynamodb.models import Model\n",
    "from datetime import datetime, timezone\n",
    "from awsSchema.apigateway import Event, Response\n",
    "from jsonschema import ValidationError\n",
    "from typing import Optional\n",
    "from nicHelper.schema import validateUrl\n",
    "from beartype import beartype"
   ]
  },
  {
   "cell_type": "markdown",
   "metadata": {},
   "source": [
    "## Error classes"
   ]
  },
  {
   "cell_type": "code",
   "execution_count": null,
   "metadata": {},
   "outputs": [],
   "source": [
    "#export\n",
    "class PynamoDBSavingError(Exception):\n",
    "  pass\n",
    "class PynamoDBSchemaValidationError(Exception):\n",
    "  pass"
   ]
  },
  {
   "cell_type": "markdown",
   "metadata": {},
   "source": [
    "# SchemaAttribute class\n",
    "a class which automatically parse and check data against json schema"
   ]
  },
  {
   "cell_type": "code",
   "execution_count": null,
   "metadata": {},
   "outputs": [],
   "source": [
    "#export\n",
    "class SchemaAttribute(Attribute):\n",
    "  attr_type = pynamodb.constants.STRING\n",
    "  def __init__(self, schemaUrl:str, path:str = '/', isYaml=True, \n",
    "               headers={'Cache-Control': 'no-cache'}, \n",
    "               envName = 'SCHEMA_ATTRIBUTE', **kwargs: Any) -> None:\n",
    "      \"\"\"\n",
    "      schemaUrl:str, \n",
    "      path:str = '/', \n",
    "      isYaml=True,  :yaml::Bool:: whether the schema is in yaml or json\n",
    "      headers={'Cache-Control': 'no-cache'},\n",
    "      :path::str:: the path of the object of interest in schema, if the schema is at root then '/'\n",
    "      envName::str:: the name of schema to save to the environment\n",
    "      \"\"\"\n",
    "      super().__init__(**kwargs)\n",
    "      try:\n",
    "        if isYaml: # yaml schema\n",
    "          schema:dict = yaml.load(requests.get(schemaUrl, headers=headers).text, Loader = yaml.FullLoader)\n",
    "        else: # probably json\n",
    "          schema:dict = requests.get(schemaUrl, headers).json()\n",
    "      except Exception as e:\n",
    "        print(f'error parsing schema {e}')\n",
    "        schema:dict = {}\n",
    "          \n",
    "      self.schema = dpath.util.get(schema, path) # get to the path in schema\n",
    "      os.environ[envName] = json.dumps(self.schema)\n",
    "\n",
    "  def deserialize(self, value: str) -> dict:\n",
    "    return json.loads(value)\n",
    "\n",
    "  def serialize(self, value:dict) -> str:\n",
    "    res = jsonschema.validate(value,self.schema)\n",
    "    return json.dumps(value)"
   ]
  },
  {
   "cell_type": "markdown",
   "metadata": {},
   "source": [
    "# Supermodel\n",
    "a class which add some functionalities on top of the standard pynamodb model, it sets id_ as the hash key and gives\n",
    "* fromDict functions \n",
    "* repr as a dict\n",
    "\n"
   ]
  },
  {
   "cell_type": "code",
   "execution_count": null,
   "metadata": {},
   "outputs": [],
   "source": [
    "#export\n",
    "extraDocsString = '''\n",
    "  def pullOutKeys(self):\n",
    "    self.id_ = self.data['id']\n",
    "  def update(self, inputDict:dict):\n",
    "    self.data.update(inputDict)\n",
    "  def fromDict(cls, inputDict:dict):\n",
    "    return cls(data = inputDict)\n",
    "  def toDict(self):\n",
    "    return self.data\n",
    "    \n",
    "'''"
   ]
  },
  {
   "cell_type": "code",
   "execution_count": null,
   "metadata": {},
   "outputs": [],
   "source": [
    "#export\n",
    "class SuperModel(Model):\n",
    "  f'''\n",
    "  a model intended to use as a standard single json object saving\n",
    "  please override functions including\n",
    "  - fromDict\n",
    "  - toDict\n",
    "  - pullOutKeys\n",
    "  - update\n",
    "  override as necessary for example\n",
    "  {extraDocsString}\n",
    "  '''\n",
    "  #id_ = UnicodeAttribute(hash_key=True)\n",
    "  data = SchemaAttribute(schemaUrl='https://gist.githubusercontent.com/thanakijwanavit/e2720d091ae0cef710a49b57c0c9cd4c/raw/ed2d322eac4900ee0f95b431d0f9067a40f3e0f0/squirrelOpenApiV0.0.3.yaml', null=True)\n",
    "  lastEdited = NumberAttribute()\n",
    "  creationTime = NumberAttribute()\n",
    "  \n",
    "  def __repr__(self):\n",
    "    return json.dumps(vars(self)['attribute_values'])\n",
    "  \n",
    "  ## query override\n",
    "  @classmethod\n",
    "  def queryId(cls, hash_key, **kwargs):\n",
    "    '''\n",
    "    just like query but make resul\n",
    "    '''\n",
    "    r = cls.query(hash_key, **kwargs)\n",
    "    res = []\n",
    "    for i in r:\n",
    "      i.pullOutKeys()\n",
    "      res.append(i)\n",
    "    return iter(res)\n",
    "      \n",
    "  \n",
    "  ## moving to and from dict\n",
    "  @classmethod\n",
    "  def fromDict(cls, inputDict:dict):\n",
    "    '''\n",
    "    turn dict into class\n",
    "    note that this assume data as the only column, please override if required\n",
    "    '''\n",
    "    return cls(data = inputDict)\n",
    "  \n",
    "  def toDict(self):\n",
    "    '''\n",
    "    turn class into a dictionary\n",
    "    note that this is set to return self.data by default, please override if needed\n",
    "    '''\n",
    "    return self.data\n",
    "  \n",
    "  #### saving ####\n",
    "  def pullOutKeys(self):\n",
    "    '''\n",
    "    update the keys with data: please override this function by pulling out keys\n",
    "    \n",
    "    for example\n",
    "    self.orderId = self.data['orderId']\n",
    "    self.ownerId = self.data['ownerId']\n",
    "    self.basketId = self.data['basketId']\n",
    "    '''\n",
    "    print('please dont foreget to override the pullOutKeys function if needed')\n",
    "    self.id_ = self.data['id']\n",
    "    \n",
    "  def recordTime(self, tz=timezone.utc):\n",
    "    '''record last edited and creation time'''\n",
    "    self.lastEdited = datetime.now(tz=tz).timestamp() # record last edited\n",
    "    if not self.creationTime: # record creation time\n",
    "      self.creationTime = datetime.now(tz=tz).timestamp()\n",
    "    \n",
    "  def save(self):\n",
    "    ''' \n",
    "    please override pullOutKeys function\n",
    "    see docs\n",
    "    this function performs following before saving the record\n",
    "      1. self.recordTime()\n",
    "      2. self.pullOutKeys()\n",
    "    '''\n",
    "    self.recordTime()\n",
    "    self.pullOutKeys()\n",
    "      \n",
    "    try: \n",
    "      super().save()\n",
    "      return self\n",
    "    except ValidationError as e:\n",
    "      raise PynamoDBSchemaValidationError(f'failed validation \\n {e}')\n",
    "    except Exception as e:\n",
    "      raise PynamoDBSavingError(f'error saving id  {e}')\n",
    "  def update(self, inputDict:dict):\n",
    "    '''\n",
    "    update with dictionary input\n",
    "    please override as necessary\n",
    "    '''\n",
    "    self.data.update(inputDict)\n",
    "  "
   ]
  },
  {
   "cell_type": "markdown",
   "metadata": {},
   "source": [
    "### Test"
   ]
  },
  {
   "cell_type": "code",
   "execution_count": null,
   "metadata": {},
   "outputs": [
    {
     "data": {
      "text/plain": [
       "{'type': 'object',\n",
       " 'required': ['id',\n",
       "  'type',\n",
       "  'street_address',\n",
       "  'city',\n",
       "  'state',\n",
       "  'zip',\n",
       "  'capacity',\n",
       "  'status'],\n",
       " 'properties': {'id': {'type': 'string', 'format': 'uuid'},\n",
       "  'type': {'type': 'string', 'enum': ['pick up', 'drop off', 'overnight']},\n",
       "  'street_address': {'type': 'string'},\n",
       "  'city': {'type': 'string'},\n",
       "  'state': {'type': 'string',\n",
       "   'pattern': '^(?:(A[KLRZ]|C[AOT]|D[CE]|FL|GA|HI|I[ADLN]|K[SY]|LA|M[ADEINOST]|N[CDEHJMVY]|O[HKR]|PA|RI|S[CD]|T[NX]|UT|V[AT]|W[AIVY]))$'},\n",
       "  'zip': {'type': 'string', 'pattern': '(^\\\\d{5}$)|(^\\\\d{5}-\\\\d{4}$)'},\n",
       "  'status': {'type': 'string', 'enum': ['open', 'in use']},\n",
       "  'created': {'type': 'string', 'format': 'date-time'},\n",
       "  'modified': {'type': 'string', 'format': 'date-time'}}}"
      ]
     },
     "execution_count": null,
     "metadata": {},
     "output_type": "execute_result"
    }
   ],
   "source": [
    "## check schema\n",
    "testSchema = 'https://gist.githubusercontent.com/thanakijwanavit/e2720d091ae0cef710a49b57c0c9cd4c/raw/ed2d322eac4900ee0f95b431d0f9067a40f3e0f0/squirrelOpenApiV0.0.3.yaml'\n",
    "schema = yaml.load(requests.get(testSchema).text, Loader= yaml.Loader)\n",
    "path = 'components/schemas/Location'\n",
    "dpath.util.get(schema, path)"
   ]
  },
  {
   "cell_type": "markdown",
   "metadata": {},
   "source": [
    "### TestModel"
   ]
  },
  {
   "cell_type": "code",
   "execution_count": null,
   "metadata": {},
   "outputs": [],
   "source": [
    "schemaUrl = 'https://raw.githubusercontent.com/thanakijwanavit/villaMasterSchema/master/Product.json'\n",
    "from typing import Any\n",
    "class TestModel(SuperModel):\n",
    "  class Meta:\n",
    "    table_name=\"colab-test-sensitive-column\"\n",
    "    region = 'ap-southeast-1'\n",
    "  data = SchemaAttribute(schemaUrl = schemaUrl, null=True)\n",
    "  phoneHash = UnicodeAttribute(hash_key=True)\n",
    "  \n",
    "    \n",
    "  # Overrides\n",
    "  def pullOutKeys(self)->None:\n",
    "    self.phoneHash = str(self.data.get('phoneHash') or self.data.get('iprcode') or self.data.get('id') )\n",
    "\n",
    "  @beartype\n",
    "  def toDict(self)->dict:\n",
    "    return self.data\n",
    "    \n",
    "  @classmethod\n",
    "  @beartype\n",
    "  def fromDict(cls, inputDict:dict)->Any:\n",
    "    return cls(data=inputDict)\n",
    "    \n",
    "  @beartype  \n",
    "  def update(self,inputDict:dict)->None:\n",
    "    self.data.update(inputDict)"
   ]
  },
  {
   "cell_type": "code",
   "execution_count": null,
   "metadata": {},
   "outputs": [],
   "source": [
    "d = TestModel('123', data={'iprcode': 4, 'cprcode': 123 , 'oprCode': '123', 'orderId': 123})\n",
    "assert d.pullOutKeys() == None\n",
    "assert type(d.toDict()) == dict\n",
    "assert d.update({'cprcode': 234}) ==None"
   ]
  },
  {
   "cell_type": "markdown",
   "metadata": {},
   "source": [
    "### success"
   ]
  },
  {
   "cell_type": "code",
   "execution_count": null,
   "metadata": {},
   "outputs": [
    {
     "data": {
      "text/plain": [
       "{\"data\": {\"type\": \"pick up\", \"street_address\": \"123\", \"id\": \"123\", \"city\": \"sth\", \"state\": \"CA\", \"zip\": \"23523\", \"capacity\": 5, \"status\": \"open\"}}"
      ]
     },
     "execution_count": null,
     "metadata": {},
     "output_type": "execute_result"
    }
   ],
   "source": [
    "from nicHelper.exception import errorString\n",
    "try:\n",
    "  test = TestModel.fromDict({'iprcode': 4, 'cprcode': 123 , 'oprCode': '123', 'orderId': 123})\n",
    "  test.save()\n",
    "except Exception as e:\n",
    "  print(e)\n",
    "  print(errorString())\n",
    "\n",
    "\n",
    "next(TestModel.query('1'))"
   ]
  },
  {
   "cell_type": "code",
   "execution_count": null,
   "metadata": {},
   "outputs": [
    {
     "data": {
      "text/plain": [
       "{\"data\": {\"type\": \"pick up\", \"street_address\": \"123\", \"id\": \"123\", \"city\": \"sth\", \"state\": \"CA\", \"zip\": \"23523\", \"capacity\": 5, \"status\": \"open\"}}"
      ]
     },
     "execution_count": null,
     "metadata": {},
     "output_type": "execute_result"
    }
   ],
   "source": [
    "\n",
    "next(TestModel.query('1'))"
   ]
  },
  {
   "cell_type": "markdown",
   "metadata": {},
   "source": [
    "### fail"
   ]
  },
  {
   "cell_type": "code",
   "execution_count": null,
   "metadata": {},
   "outputs": [
    {
     "name": "stdout",
     "output_type": "stream",
     "text": [
      "failed validation \n",
      " '4' is not of type 'integer'\n",
      "\n",
      "Failed validating 'type' in schema['properties']['iprcode']:\n",
      "    {'type': 'integer'}\n",
      "\n",
      "On instance['iprcode']:\n",
      "    '4'\n"
     ]
    },
    {
     "data": {
      "text/plain": [
       "{\"data\": {\"type\": \"pick up\", \"street_address\": \"123\", \"id\": \"123\", \"city\": \"sth\", \"state\": \"CA\", \"zip\": \"23523\", \"capacity\": 5, \"status\": \"open\"}}"
      ]
     },
     "execution_count": null,
     "metadata": {},
     "output_type": "execute_result"
    }
   ],
   "source": [
    "try:\n",
    "  TestModel(\n",
    "    data = {'iprcode': '4', 'cprcode': 123 , 'oprCode': '123'}\n",
    "  ).save()\n",
    "except Exception as e:\n",
    "  print(e)\n",
    "\n",
    "\n",
    "\n",
    "next(TestModel.query('1'))"
   ]
  },
  {
   "cell_type": "markdown",
   "metadata": {},
   "source": [
    "### nested"
   ]
  },
  {
   "cell_type": "code",
   "execution_count": null,
   "metadata": {},
   "outputs": [
    {
     "name": "stdout",
     "output_type": "stream",
     "text": [
      "faulty data is rejected\n"
     ]
    }
   ],
   "source": [
    "schemaUrl = 'https://gist.githubusercontent.com/thanakijwanavit/e2720d091ae0cef710a49b57c0c9cd4c/raw/ed2d322eac4900ee0f95b431d0f9067a40f3e0f0/squirrelOpenApiV0.0.3.yaml'\n",
    "path = '/components/schemas/Location'\n",
    "class ProductModel(SuperModel):\n",
    "  class Meta:\n",
    "    table_name=\"colab-test-sensitive-column\"\n",
    "    region = 'ap-southeast-1'\n",
    "  phoneHash = UnicodeAttribute(hash_key=True)\n",
    "  data = SchemaAttribute(schemaUrl = schemaUrl,path=path, null=True)\n",
    "  \n",
    "  def pullOutKeys(self):\n",
    "    self.phoneHash = self.data.get('id')\n",
    "\n",
    "  \n",
    "def test_nested():\n",
    "  result = {}\n",
    "  try:\n",
    "    ProductModel(\n",
    "      data = {'type': 'something invalid', 'street_address': '123' }\n",
    "    ).save()\n",
    "  except Exception as e:\n",
    "    print('faulty data is rejected')\n",
    "    result['errorModel'] = True\n",
    "\n",
    "  try:\n",
    "    data = {'type': 'pick up', 'street_address': '123' , 'id': '123', 'city':'sth', 'state': 'CA', 'zip':'23523', 'capacity':5, 'status':'open'}\n",
    "    product:ProductModel = ProductModel.fromDict(data)\n",
    "    result['successModel'] = True\n",
    "  except Exception as e:\n",
    "    print(f'valid data is rejected\\n{e}')\n",
    "    result['successModel'] = False\n",
    "  \n",
    "\n",
    "  assert next(TestModel.query('1')).data == {'type': 'pick up', 'street_address': '123' , 'id': '123', 'city':'sth', 'state': 'CA', 'zip':'23523', 'capacity':5, 'status':'open'}\n",
    "  assert result['successModel'] == True, 'success model didnt save properly'\n",
    "  assert result['errorModel'] == True, 'error model went through'\n",
    "  \n",
    "test_nested()"
   ]
  },
  {
   "cell_type": "markdown",
   "metadata": {},
   "source": [
    "# Standard functions"
   ]
  },
  {
   "cell_type": "markdown",
   "metadata": {},
   "source": [
    "## Create data"
   ]
  },
  {
   "cell_type": "code",
   "execution_count": null,
   "metadata": {},
   "outputs": [],
   "source": [
    "#export\n",
    "def createData(event:dict, hashKeyName: str,mainClass:Model, schemaUrl:Optional[str] = None ,schemaFormat:str ='yaml', *args):\n",
    "  '''\n",
    "    create a new row of data\n",
    "  '''\n",
    "  # parse output\n",
    "  query:dict = Event.parseBody(event) \n",
    "  \n",
    "  # check schema if provided\n",
    "  if schemaUrl: \n",
    "    try: validateUrl(schemaUrl, query, format_ = schemaFormat)\n",
    "    except ValidationError as e: return Response.returnSuccess(f'{e}')\n",
    "  \n",
    "  # check for key\n",
    "  if hashKeyName not in query:  \n",
    "    return Response.returnError(message=f'missing {hashKeyName}') \n",
    "  \n",
    "  # check if object exist \n",
    "  if next(mainClass.query(query[hashKeyName]),None): \n",
    "    return Response.returnError(message=f'item with the same hash key exists')\n",
    "  \n",
    "  # make pynamodb object\n",
    "  item:mainClass = mainClass.fromDict(query)\n",
    "    \n",
    "  # try to save\n",
    "  try: \n",
    "    item.save()\n",
    "    return Response.returnSuccess(body=item.toDict())\n",
    "  \n",
    "  except ValidationError as e: # error validation handle\n",
    "    return Response.returnError(f'validation error \\n {e}')\n",
    "  \n",
    "  except Exception as e: # error handle\n",
    "    return Response.returnError(f'unknown error \\n {e} \\n errorString())')"
   ]
  },
  {
   "cell_type": "markdown",
   "metadata": {},
   "source": [
    "### Usage example"
   ]
  },
  {
   "cell_type": "code",
   "execution_count": null,
   "metadata": {},
   "outputs": [],
   "source": [
    "## lambda create function\n",
    "def create (event, *args):\n",
    "  body = Event.parseBody(event)\n",
    "  body['id'] = body['phoneHash']\n",
    "  \n",
    "  event2 = Event.getInput(body)\n",
    "  r = createData(event2, hashKeyName='phoneHash', mainClass=TestModel)\n",
    "  if r.get('statusCode') != 200: return r\n",
    "  r2 = next(TestModel.query(body['phoneHash']), None)\n",
    "  if not r2: return Response.returnError('st wrong with saving, saving but didnt go through')\n",
    "  return Response.returnSuccess(r2)"
   ]
  },
  {
   "cell_type": "markdown",
   "metadata": {},
   "source": [
    "### Test"
   ]
  },
  {
   "cell_type": "markdown",
   "metadata": {},
   "source": [
    "#### Success"
   ]
  },
  {
   "cell_type": "code",
   "execution_count": null,
   "metadata": {},
   "outputs": [
    {
     "name": "stdout",
     "output_type": "stream",
     "text": [
      "existing item is : {\"lastEdited\": 1625508893.420898, \"creationTime\": 1625508893.330854, \"data\": {\"phoneHash\": \"123\", \"iprcode\": 5, \"cprcode\": 123, \"oprCode\": \"1234\", \"id\": \"123\"}, \"phoneHash\": \"123\"}\n",
      "{'ConsumedCapacity': {'CapacityUnits': 1.0, 'TableName': 'colab-test-sensitive-column'}}\n"
     ]
    },
    {
     "data": {
      "text/plain": [
       "{'body': '{\"phoneHash\":\"123\",\"iprcode\":4,\"cprcode\":123,\"oprCode\":\"123\",\"id\":\"123\"}',\n",
       " 'statusCode': 200,\n",
       " 'headers': {'Access-Control-Allow-Headers': '*',\n",
       "  'Access-Control-Allow-Origin': '*',\n",
       "  'Access-Control-Allow-Methods': '*'}}"
      ]
     },
     "execution_count": null,
     "metadata": {},
     "output_type": "execute_result"
    }
   ],
   "source": [
    "schemaUrl = 'https://raw.githubusercontent.com/thanakijwanavit/villaMasterSchema/master/Product.json'\n",
    "data = {'phoneHash': '123','iprcode': 4, 'cprcode': 123 , 'oprCode': '123'}\n",
    "event = Event.getInput(data)\n",
    "item = next(TestModel.queryId('123'), None)\n",
    "print('existing item is :',item)\n",
    "# delete item if exist\n",
    "if item:\n",
    "  print(item.delete())\n",
    "create(event)"
   ]
  },
  {
   "cell_type": "code",
   "execution_count": null,
   "metadata": {},
   "outputs": [
    {
     "data": {
      "text/plain": [
       "{\"lastEdited\": 1626617229.393203, \"creationTime\": 1626617229.393216, \"data\": {\"phoneHash\": \"123\", \"iprcode\": 4, \"cprcode\": 123, \"oprCode\": \"123\", \"id\": \"123\"}}"
      ]
     },
     "execution_count": null,
     "metadata": {},
     "output_type": "execute_result"
    }
   ],
   "source": [
    "createData(Event.getInput(data), hashKeyName='phoneHash', mainClass =TestModel)\n",
    "next(TestModel.query('123'))"
   ]
  },
  {
   "cell_type": "code",
   "execution_count": null,
   "metadata": {},
   "outputs": [
    {
     "data": {
      "text/plain": [
       "{\"lastEdited\": 1626617229.432975, \"creationTime\": 1626617229.432986, \"data\": {\"phoneHash\": \"123\", \"iprcode\": 4, \"cprcode\": 123, \"oprCode\": \"123\"}}"
      ]
     },
     "execution_count": null,
     "metadata": {},
     "output_type": "execute_result"
    }
   ],
   "source": [
    "test = TestModel(data = data)\n",
    "test.save()\n",
    "test.phoneHash\n",
    "next(TestModel.query('123'))"
   ]
  },
  {
   "cell_type": "markdown",
   "metadata": {},
   "source": [
    "## GetData"
   ]
  },
  {
   "cell_type": "code",
   "execution_count": null,
   "metadata": {},
   "outputs": [],
   "source": [
    "#export\n",
    "from awsSchema.apigateway import Event, Response\n",
    "from jsonschema import ValidationError\n",
    "from typing import Optional\n",
    "from nicHelper.schema import validateUrl\n",
    "\n",
    "def getData(hashKeyName:str, mainClass: Model):\n",
    "  '''\n",
    "    create a new basket\n",
    "  '''\n",
    "  # get data\n",
    "  try:\n",
    "    r:Optional[Model] = next(mainClass.query(hashKeyName), None)\n",
    "  except Exception as e:\n",
    "    return Response.returnError(f'failed to query with error {e}')\n",
    "  \n",
    "  # product not found\n",
    "  if not r: return Response.returnError(f'not found')\n",
    "  #success\n",
    "  else: return Response.returnSuccess(r.toDict())"
   ]
  },
  {
   "cell_type": "markdown",
   "metadata": {},
   "source": [
    "### usage"
   ]
  },
  {
   "cell_type": "code",
   "execution_count": null,
   "metadata": {},
   "outputs": [],
   "source": [
    "def lambdaGet(event, *args):\n",
    "  query = Event.parseBody(event)\n",
    "  if 'key' not in query: return Response.returnError(f'missing key')\n",
    "  return getData(query['key'], TestModel)"
   ]
  },
  {
   "cell_type": "markdown",
   "metadata": {},
   "source": [
    "### Test"
   ]
  },
  {
   "cell_type": "markdown",
   "metadata": {},
   "source": [
    "#### Success"
   ]
  },
  {
   "cell_type": "code",
   "execution_count": null,
   "metadata": {},
   "outputs": [
    {
     "data": {
      "text/plain": [
       "{'body': '{\"phoneHash\":\"123\",\"iprcode\":4,\"cprcode\":123,\"oprCode\":\"123\"}',\n",
       " 'statusCode': 200,\n",
       " 'headers': {'Access-Control-Allow-Headers': '*',\n",
       "  'Access-Control-Allow-Origin': '*',\n",
       "  'Access-Control-Allow-Methods': '*'}}"
      ]
     },
     "execution_count": null,
     "metadata": {},
     "output_type": "execute_result"
    }
   ],
   "source": [
    "data = {'phoneHash': '123','iprcode': 4, 'cprcode': 123 , 'oprCode': '123'}\n",
    "event = Event.getInput(data)\n",
    "create(event)\n",
    "\n",
    "lambdaGet(Event.getInput({'key': '123'}))"
   ]
  },
  {
   "cell_type": "markdown",
   "metadata": {},
   "source": [
    "#### failed wrong key type"
   ]
  },
  {
   "cell_type": "code",
   "execution_count": null,
   "metadata": {},
   "outputs": [
    {
     "data": {
      "text/plain": [
       "{'body': '{\"error\":\"failed to query with error object of type \\'int\\' has no len()\"}',\n",
       " 'statusCode': 400,\n",
       " 'headers': {'Access-Control-Allow-Headers': '*',\n",
       "  'Access-Control-Allow-Origin': '*',\n",
       "  'Access-Control-Allow-Methods': '*'}}"
      ]
     },
     "execution_count": null,
     "metadata": {},
     "output_type": "execute_result"
    }
   ],
   "source": [
    "lambdaGet(Event.getInput({'key': 123}))"
   ]
  },
  {
   "cell_type": "markdown",
   "metadata": {},
   "source": [
    "## update data"
   ]
  },
  {
   "cell_type": "code",
   "execution_count": null,
   "metadata": {},
   "outputs": [],
   "source": [
    "# export\n",
    "def updateData(event:dict, hashKeyName: str,mainClass:Model, \n",
    "               schemaUrl:Optional[str] = None ,schemaFormat:str ='yaml', *args):\n",
    "  '''\n",
    "  updating data based on the new input\n",
    "  \n",
    "  event:dict: object gathered from apiGatewayProxy\n",
    "  hashKeyName:str: the name of the hash key\n",
    "  mainClass:Model: pynamodb model class for this object\n",
    "  schemaUrl:Optional[str]: url of the input schema for validation\n",
    "  schemaFormat:Enum['yaml', 'json']\n",
    "  '''\n",
    "  # parse output\n",
    "  query:dict = Event.parseBody(event) \n",
    "\n",
    "  # check schema if provided\n",
    "  if schemaUrl: \n",
    "    try: validateUrl(schemaUrl, query,format_ = schemaFormat)\n",
    "    except ValidationError as e: return Response.returnSuccess(f'{e}')\n",
    "\n",
    "  # check for key\n",
    "  if hashKeyName not in query:  \n",
    "    return Response.returnError(message=f'missing {hashKeyName}') \n",
    "\n",
    "  # check if object exist \n",
    "  item:mainClass = next(mainClass.query(query[hashKeyName]),None)\n",
    "  if not item: \n",
    "    return Response.returnError(message=f'item with the same hash key doesnt exist')\n",
    "\n",
    "  # update the data\n",
    "  item.update(query)\n",
    "\n",
    "  # try to save\n",
    "  try: \n",
    "    item.save()\n",
    "    return Response.returnSuccess(body=item.toDict())\n",
    "\n",
    "  except ValidationError as e: # error validation handle\n",
    "    return Response.returnError(f'validation error \\n {e}')\n",
    "\n",
    "  except Exception as e: # error handle\n",
    "    return Response.returnError(f'unknown error \\n {e} \\n errorString())')\n",
    "    "
   ]
  },
  {
   "cell_type": "markdown",
   "metadata": {},
   "source": [
    "### sample Usage"
   ]
  },
  {
   "cell_type": "code",
   "execution_count": null,
   "metadata": {},
   "outputs": [],
   "source": [
    "def update(event, *args):\n",
    "  body = Event.parseBody(event)\n",
    "  body['id'] = body['phoneHash']\n",
    "  \n",
    "  event2 = Event.getInput(body)\n",
    "  hashKeyname = 'id'\n",
    "  return updateData(event2, hashKeyName=hashKeyname, mainClass=TestModel)"
   ]
  },
  {
   "cell_type": "code",
   "execution_count": null,
   "metadata": {},
   "outputs": [
    {
     "data": {
      "text/plain": [
       "{'body': '{\"phoneHash\":\"123\",\"iprcode\":5,\"cprcode\":123,\"oprCode\":\"1234\",\"id\":\"123\"}',\n",
       " 'statusCode': 200,\n",
       " 'headers': {'Access-Control-Allow-Headers': '*',\n",
       "  'Access-Control-Allow-Origin': '*',\n",
       "  'Access-Control-Allow-Methods': '*'}}"
      ]
     },
     "execution_count": null,
     "metadata": {},
     "output_type": "execute_result"
    }
   ],
   "source": [
    "r = create(Event.getInput({'phoneHash': '123','iprcode': 5, 'cprcode': 123 , 'oprCode': '123'}))\n",
    "r = update(Event.getInput({'phoneHash': '123','iprcode': 5, 'cprcode': 123 , 'oprCode': '1234'}))\n",
    "lambdaGet(Event.getInput({'key':'123'}))"
   ]
  },
  {
   "cell_type": "code",
   "execution_count": null,
   "metadata": {},
   "outputs": [],
   "source": []
  }
 ],
 "metadata": {
  "kernelspec": {
   "display_name": "python38",
   "language": "python",
   "name": "python38"
  }
 },
 "nbformat": 4,
 "nbformat_minor": 4
}
