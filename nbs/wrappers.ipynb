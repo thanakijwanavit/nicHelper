{
 "cells": [
  {
   "cell_type": "code",
   "execution_count": null,
   "metadata": {},
   "outputs": [],
   "source": [
    "# default_exp wrappers"
   ]
  },
  {
   "cell_type": "markdown",
   "metadata": {},
   "source": [
    "# wrappers\n",
    "> API details."
   ]
  },
  {
   "cell_type": "code",
   "execution_count": null,
   "metadata": {},
   "outputs": [],
   "source": [
    "#hide\n",
    "from nbdev.showdoc import *"
   ]
  },
  {
   "cell_type": "code",
   "execution_count": null,
   "metadata": {},
   "outputs": [],
   "source": [
    "#export\n",
    "from functools import wraps # This convenience func preserves name and docstring\n"
   ]
  },
  {
   "cell_type": "code",
   "execution_count": null,
   "metadata": {},
   "outputs": [],
   "source": [
    "class A:\n",
    "  def __init__(self, a=''):\n",
    "    self.a = a\n",
    "  pass\n"
   ]
  },
  {
   "cell_type": "markdown",
   "metadata": {},
   "source": [
    "# add_method"
   ]
  },
  {
   "cell_type": "code",
   "execution_count": null,
   "metadata": {},
   "outputs": [],
   "source": [
    "#export\n",
    "def add_method(cls):\n",
    "  '''\n",
    "  a decorator that allows you to add methods to a class\n",
    "  '''\n",
    "  def decorator(func):\n",
    "      @wraps(func) \n",
    "      def wrapper(self, *args, **kwargs): \n",
    "          return func(self, *args, **kwargs)\n",
    "      setattr(cls, func.__name__, wrapper)\n",
    "      # Note we are not binding func, but wrapper which accepts self but does exactly the same as func\n",
    "      return func # returning func means func can still be used normally\n",
    "  return decorator\n"
   ]
  },
  {
   "cell_type": "markdown",
   "metadata": {},
   "source": [
    "## test"
   ]
  },
  {
   "cell_type": "code",
   "execution_count": null,
   "metadata": {},
   "outputs": [
    {
     "name": "stdout",
     "output_type": "stream",
     "text": [
      "hello\n",
      "None\n",
      "printHello\n",
      "this function prints hello\n"
     ]
    }
   ],
   "source": [
    "@add_method(A)\n",
    "def printHello(self):\n",
    "  '''this function prints hello'''\n",
    "  print('hello')\n",
    "\n",
    "print(A().printHello())\n",
    "print(A().printHello.__name__)\n",
    "print(A().printHello.__doc__)"
   ]
  },
  {
   "cell_type": "code",
   "execution_count": null,
   "metadata": {},
   "outputs": [],
   "source": [
    "#export\n",
    "def add_static_method(cls):\n",
    "  '''\n",
    "  a decorator that allows you to add static methods to a class\n",
    "  '''\n",
    "  def decorator(func):\n",
    "    @wraps(func)\n",
    "    def wrapper( *args, **kwargs):\n",
    "      return func(*args, **kwargs)\n",
    "    setattr(cls, func.__name__, wrapper)\n",
    "  return decorator"
   ]
  },
  {
   "cell_type": "code",
   "execution_count": null,
   "metadata": {},
   "outputs": [
    {
     "name": "stdout",
     "output_type": "stream",
     "text": [
      "hello\n",
      "hello\n"
     ]
    }
   ],
   "source": [
    "@add_static_method(A)\n",
    "def printHelloStatic(inputString):\n",
    "  print(inputString)\n",
    "\n",
    "A.printHelloStatic(inputString='hello')\n",
    "A.printHelloStatic('hello')"
   ]
  },
  {
   "cell_type": "code",
   "execution_count": null,
   "metadata": {},
   "outputs": [],
   "source": [
    "#export\n",
    "def add_class_method(cls):\n",
    "  '''\n",
    "  a decorator that allows you to add class method to a class\n",
    "  '''\n",
    "  def decorator(func):\n",
    "      @wraps(func) \n",
    "      @classmethod\n",
    "      def wrapper(cls, *args, **kwargs): \n",
    "          return func( cls, *args, **kwargs)\n",
    "      setattr(cls, func.__name__, wrapper)\n",
    "      # Note we are not binding func, but wrapper which accepts self but does exactly the same as func\n",
    "      return func # returning func means func can still be used normally\n",
    "  return decorator"
   ]
  },
  {
   "cell_type": "code",
   "execution_count": null,
   "metadata": {},
   "outputs": [
    {
     "data": {
      "text/plain": [
       "'hi'"
      ]
     },
     "execution_count": null,
     "metadata": {},
     "output_type": "execute_result"
    }
   ],
   "source": [
    "@add_class_method(A)\n",
    "def printHelloClass(cls,a):\n",
    "  return cls(a).a\n",
    "\n",
    "A.printHelloClass('hi')"
   ]
  },
  {
   "cell_type": "code",
   "execution_count": null,
   "metadata": {},
   "outputs": [
    {
     "name": "stdout",
     "output_type": "stream",
     "text": [
      "Converted Images.ipynb.\n",
      "Converted dictUtil.ipynb.\n",
      "Converted exception.ipynb.\n",
      "Converted index.ipynb.\n",
      "Converted pdUtils.ipynb.\n",
      "Converted secrets.ipynb.\n",
      "Converted shortenLInk.ipynb.\n",
      "Converted wrappers.ipynb.\n"
     ]
    }
   ],
   "source": [
    "#hide\n",
    "from nbdev.export import *\n",
    "notebook2script()"
   ]
  },
  {
   "cell_type": "code",
   "execution_count": null,
   "metadata": {},
   "outputs": [
    {
     "name": "stdout",
     "output_type": "stream",
     "text": [
      "/bin/sh: nbdev_build_lib: command not found\n"
     ]
    }
   ],
   "source": [
    "#hide\n",
    "!nbdev_build_lib\n",
    "# !nbdev_build_docs --mk_readme True"
   ]
  },
  {
   "cell_type": "code",
   "execution_count": null,
   "metadata": {},
   "outputs": [
    {
     "name": "stdout",
     "output_type": "stream",
     "text": [
      "[1, 2]\n"
     ]
    }
   ],
   "source": [
    "lst = [1,2,2]\n",
    "lst.remove(2)\n",
    "print(lst)"
   ]
  },
  {
   "cell_type": "code",
   "execution_count": null,
   "metadata": {},
   "outputs": [],
   "source": []
  }
 ],
 "metadata": {
  "kernelspec": {
   "display_name": "conda_python38",
   "language": "python",
   "name": "conda_python38"
  },
  "language_info": {
   "codemirror_mode": {
    "name": "ipython",
    "version": 3
   },
   "file_extension": ".py",
   "mimetype": "text/x-python",
   "name": "python",
   "nbconvert_exporter": "python",
   "pygments_lexer": "ipython3",
   "version": "3.8.10"
  }
 },
 "nbformat": 4,
 "nbformat_minor": 4
}
